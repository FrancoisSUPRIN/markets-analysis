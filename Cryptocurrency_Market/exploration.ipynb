{
 "cells": [
  {
   "cell_type": "code",
   "execution_count": null,
   "metadata": {},
   "outputs": [],
   "source": [
    "# Télécharger les ressources necéssaires pour utiliser le script\n",
    "# !pip install python-binance\n",
    "\n",
    "import os\n",
    "import pandas as pd\n",
    "from datetime import date, timedelta\n",
    "from market_imbalance import MarketImbalance, MarketCandle, create_market_candle, find_imbalances_after_fall, find_imbalances_after_rise\n",
    "#from analysis_functions import find_imbalances_after_rise, find_imbalance_after_fall\n",
    "from interact_with_binance import fetch_ohlcv\n",
    "from binance.client import Client\n"
   ]
  },
  {
   "cell_type": "code",
   "execution_count": null,
   "metadata": {},
   "outputs": [],
   "source": [
    "# Récupérer les clés API à partir des variables d'environnement\n",
    "api_key = os.environ.get('BINANCE_API_KEY')\n",
    "api_secret = os.environ.get('BINANCE_API_SECRET')\n",
    "\n",
    "# Initialiser le client Binance\n",
    "client = Client(api_key, api_secret)\n",
    "\n",
    "# Récupérer l'historique des prix pour une paire donnée depuis son listing sur la plateforme\n",
    "df = fetch_ohlcv(client, symbol = \"BTCUSDT\", interval=Client.KLINE_INTERVAL_1HOUR, from_date= \"1 Mar, 2024\") #\"1 Jan, 2015\"\n",
    "df"
   ]
  },
  {
   "cell_type": "code",
   "execution_count": null,
   "metadata": {},
   "outputs": [],
   "source": [
    "imbalances_after_rise = find_imbalances_after_rise(df)\n",
    "for imbalance in imbalances_after_rise:\n",
    "    print(imbalance)"
   ]
  },
  {
   "cell_type": "code",
   "execution_count": null,
   "metadata": {},
   "outputs": [],
   "source": [
    "Imbalance_candles = pd.DataFrame([previous_candles, current_candles, next_candles], columns=['timestamp', 'open', 'high', 'low', 'close', 'volume', 'close_time', 'quote_asset_volume', 'number_of_trades', 'taker_buy_base_asset_volume', 'taker_buy_quote_asset_volume', 'ignore'])\n",
    "Imbalance_candles"
   ]
  },
  {
   "cell_type": "code",
   "execution_count": null,
   "metadata": {},
   "outputs": [],
   "source": [
    "# Identifier tous les imbalances\n",
    "\n",
    "all_imbalances = find_imbalances_after_rise(df) + find_imbalance_after_fall(df)\n",
    "print(len(all_imbalances))\n",
    "\n",
    "# Return all imbalances\n",
    "all_imbalances"
   ]
  },
  {
   "cell_type": "code",
   "execution_count": null,
   "metadata": {},
   "outputs": [],
   "source": [
    "# retourne une liste des jours où il y a eu des imbalances\n",
    "list_of_imbalance_start = []\n",
    "for imbalance in all_imbalances :\n",
    "    list_of_imbalance_start.append(imbalance[0])\n"
   ]
  },
  {
   "cell_type": "code",
   "execution_count": null,
   "metadata": {},
   "outputs": [],
   "source": [
    "# retourne une liste des jours où il y a eu des imbalances qui n'ont pas été comblés par la suite\n",
    "random_imbalance_after_a_rise = find_imbalances_after_rise(df)\n",
    "\n",
    "df_exp = pd.DataFrame(random_imbalance_after_a_rise, columns=['timestamp', 'open', 'high', 'low', 'close', 'volume', 'close_time', 'quote_asset_volume', 'number_of_trades', 'taker_buy_base_asset_volume', 'taker_buy_quote_asset_volume', 'ignore'])\n",
    "df_exp['timestamp'] = pd.to_datetime(df_exp['timestamp'], unit='ms')\n",
    "df_exp.set_index('timestamp', inplace=True)"
   ]
  },
  {
   "cell_type": "code",
   "execution_count": null,
   "metadata": {},
   "outputs": [],
   "source": [
    "# un imbalance après une hausse est comblé si :\n",
    "imbalance_timestamp = timestamp_imb\n",
    "imbalance_open = n+1[low]\n",
    "imbalance_close = n-1[high]\n",
    "imbalance_depth = imbalance_open - imbalance_close\n",
    "is_imbalance_filled = \"function is_imbalance_filled_(imbalance, toutes les occurences dérrière)\"\n",
    "\n",
    "    \"\"\" pour chaque bougie après l'imbalance, regarder le prix le plus bas de la bougie. \n",
    "        si le prix le plus est égal ou inférieur à imbalance_close,\n",
    "        alors is_imbalance_full_filled == true\n",
    "        & imbalance_was_fullfilled_at = bougie[timestamp]\n",
    "        \n",
    "        si le prix le plus bas est strictement inférieur à imbalance_open\n",
    "        is_imbalance_partially_filled == true\n",
    "        \n",
    "        \n",
    "        mettre à jour la caractéristique de l'imbalance \n",
    "    \"\"\"\n"
   ]
  },
  {
   "cell_type": "code",
   "execution_count": null,
   "metadata": {},
   "outputs": [],
   "source": [
    "# code à modifier afin de pouvoir travailler avec tradingview sur des timeframes en heure et en minutes.\n",
    "# Je suis limité à 5000 barres dans tradingview. Je dois donc réduire la liste des imbalances à ceux réalisés dans les 5000 derniers jours à partir d'aujourd'hui\n",
    "# Get today's date\n",
    "today = date.today()\n",
    "\n",
    "# Calculate the date 5000 days ago\n",
    "days_ago = today - timedelta(days=5000)\n",
    "print(days_ago)\n",
    "\n",
    "# Filter dates within the last 5000 days\n",
    "recent_dates = [d for d in list_of_imbalance_start if d >= days_ago]\n",
    "\n",
    "# Print recent dates\n",
    "print(\"Recent dates within the last 5000 days:\")\n",
    "for d in recent_dates:\n",
    "    print(d)"
   ]
  }
 ],
 "metadata": {
  "kernelspec": {
   "display_name": "Python 3",
   "language": "python",
   "name": "python3"
  },
  "language_info": {
   "codemirror_mode": {
    "name": "ipython",
    "version": 3
   },
   "file_extension": ".py",
   "mimetype": "text/x-python",
   "name": "python",
   "nbconvert_exporter": "python",
   "pygments_lexer": "ipython3",
   "version": "3.10.11"
  }
 },
 "nbformat": 4,
 "nbformat_minor": 2
}
