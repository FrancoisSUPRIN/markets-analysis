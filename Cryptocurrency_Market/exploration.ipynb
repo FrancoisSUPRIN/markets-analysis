{
 "cells": [
  {
   "cell_type": "code",
   "execution_count": 13,
   "metadata": {},
   "outputs": [],
   "source": [
    "# Télécharger les ressources necéssaires pour utiliser le script\n",
    "# !pip install python-binance\n",
    "\n",
    "import os\n",
    "import pandas as pd\n",
    "from analysis_functions import find_imbalances_after_rise, find_imbalance_after_fall\n",
    "from binance.client import Client\n"
   ]
  },
  {
   "cell_type": "code",
   "execution_count": 14,
   "metadata": {},
   "outputs": [
    {
     "ename": "TypeError",
     "evalue": "unsupported operand type(s) for -: 'str' and 'str'",
     "output_type": "error",
     "traceback": [
      "\u001b[1;31m---------------------------------------------------------------------------\u001b[0m",
      "\u001b[1;31mTypeError\u001b[0m                                 Traceback (most recent call last)",
      "Cell \u001b[1;32mIn [14], line 15\u001b[0m\n\u001b[0;32m     12\u001b[0m df\u001b[38;5;241m.\u001b[39mset_index(\u001b[38;5;124m'\u001b[39m\u001b[38;5;124mtimestamp\u001b[39m\u001b[38;5;124m'\u001b[39m, inplace\u001b[38;5;241m=\u001b[39m\u001b[38;5;28;01mTrue\u001b[39;00m)\n\u001b[0;32m     14\u001b[0m \u001b[38;5;66;03m# Identifier tous les imbalances\u001b[39;00m\n\u001b[1;32m---> 15\u001b[0m imbalance_after_rise \u001b[38;5;241m=\u001b[39m \u001b[43mfind_imbalances_after_rise\u001b[49m\u001b[43m(\u001b[49m\u001b[43mdf\u001b[49m\u001b[43m)\u001b[49m\n\u001b[0;32m     16\u001b[0m imbalance_after_fall \u001b[38;5;241m=\u001b[39m find_imbalance_after_fall(df)\n\u001b[0;32m     17\u001b[0m all_imbalances \u001b[38;5;241m=\u001b[39m []\n",
      "File \u001b[1;32mc:\\Users\\supri\\Documents\\GitHub\\markets-analysis\\Cryptocurrency_Market\\analysis_functions.py:12\u001b[0m, in \u001b[0;36mfind_imbalances_after_rise\u001b[1;34m(df)\u001b[0m\n\u001b[0;32m     10\u001b[0m current_candle \u001b[38;5;241m=\u001b[39m df\u001b[38;5;241m.\u001b[39miloc[i]\n\u001b[0;32m     11\u001b[0m next_candle \u001b[38;5;241m=\u001b[39m df\u001b[38;5;241m.\u001b[39miloc[i\u001b[38;5;241m+\u001b[39m\u001b[38;5;241m1\u001b[39m]\n\u001b[1;32m---> 12\u001b[0m price_difference \u001b[38;5;241m=\u001b[39m \u001b[43mnext_candle\u001b[49m\u001b[43m[\u001b[49m\u001b[38;5;124;43m'\u001b[39;49m\u001b[38;5;124;43mlow\u001b[39;49m\u001b[38;5;124;43m'\u001b[39;49m\u001b[43m]\u001b[49m\u001b[43m \u001b[49m\u001b[38;5;241;43m-\u001b[39;49m\u001b[43m \u001b[49m\u001b[43mprev_candle\u001b[49m\u001b[43m[\u001b[49m\u001b[38;5;124;43m'\u001b[39;49m\u001b[38;5;124;43mhigh\u001b[39;49m\u001b[38;5;124;43m'\u001b[39;49m\u001b[43m]\u001b[49m\n\u001b[0;32m     13\u001b[0m imbalance \u001b[38;5;241m=\u001b[39m (\u001b[38;5;241m*\u001b[39mprev_candle, \u001b[38;5;241m*\u001b[39mcurrent_candle, \u001b[38;5;241m*\u001b[39mnext_candle, price_difference, current_candle[\u001b[38;5;124m'\u001b[39m\u001b[38;5;124mtimestamp\u001b[39m\u001b[38;5;124m'\u001b[39m])\n\u001b[0;32m     14\u001b[0m imbalances_after_rise\u001b[38;5;241m.\u001b[39mappend(imbalance)\n",
      "\u001b[1;31mTypeError\u001b[0m: unsupported operand type(s) for -: 'str' and 'str'"
     ]
    }
   ],
   "source": [
    "# Récupérer les clés API à partir des variables d'environnement\n",
    "api_key = os.environ.get('BINANCE_API_KEY')\n",
    "api_secret = os.environ.get('BINANCE_API_SECRET')\n",
    "\n",
    "# Initialiser le client Binance\n",
    "client = Client(api_key, api_secret)\n",
    "\n",
    "# Récupérer l'historique des prix pour une paire donnée depuis son listing sur la plateforme\n",
    "historical_candles = client.get_historical_klines(\"BTCUSDT\", Client.KLINE_INTERVAL_1DAY, \"1 Jan, 2015\")\n",
    "df = pd.DataFrame(historical_candles, columns=['timestamp', 'open', 'high', 'low', 'close', 'volume', 'close_time', 'quote_asset_volume', 'number_of_trades', 'taker_buy_base_asset_volume', 'taker_buy_quote_asset_volume', 'ignore'])\n",
    "df['timestamp'] = pd.to_datetime(df['timestamp'], unit='ms')\n",
    "df.set_index('timestamp', inplace=True)\n",
    "\n",
    "# Identifier tous les imbalances\n",
    "imbalance_after_rise = find_imbalances_after_rise(df)\n",
    "imbalance_after_fall = find_imbalance_after_fall(df)\n",
    "all_imbalances = []\n",
    "all_imbalances.extend(imbalance_after_rise)\n",
    "all_imbalances.extend(imbalance_after_fall)\n",
    "all_imbalances"
   ]
  },
  {
   "cell_type": "code",
   "execution_count": null,
   "metadata": {},
   "outputs": [],
   "source": [
    "imbalances_after_fall = find_imbalance_after_fall(df)\n",
    "\n",
    "# retourne une liste des jours où il y a eu un imbalance suite à une baisse rapide\n",
    "list_of_imbalance_start = []\n",
    "for imbalance in imbalances_after_fall :\n",
    "    list_of_imbalance_start.append(imbalance[0])\n",
    "    \n",
    "list_of_imbalance_start"
   ]
  },
  {
   "cell_type": "code",
   "execution_count": null,
   "metadata": {},
   "outputs": [],
   "source": [
    "# Récupérer les clés API à partir des variables d'environnement\n",
    "api_key = os.environ.get('BINANCE_API_KEY')\n",
    "api_secret = os.environ.get('BINANCE_API_SECRET')\n",
    "\n",
    "# Initialiser le client Binance\n",
    "client = Client(api_key, api_secret)\n",
    "\n",
    "# Récupérer l'historique des prix pour une paire donnée depuis son listing sur la plateforme\n",
    "candles = client.get_historical_klines(\"BTCUSDT\", Client.KLINE_INTERVAL_1DAY, \"1 Jan, 2015\")\n",
    "candles_count = len(candles)\n",
    "df = pd.DataFrame(candles, columns=['timestamp', 'open', 'high', 'low', 'close', 'volume', 'close_time', 'quote_asset_volume', 'number_of_trades', 'taker_buy_base_asset_volume', 'taker_buy_quote_asset_volume', 'ignore'])\n",
    "df['timestamp'] = pd.to_datetime(df['timestamp'], unit='ms')\n",
    "df.set_index('timestamp', inplace=True)\n",
    "\n",
    "\n",
    "# Identifier tous les imbalances\n",
    "imbalance_after_fall = find_imbalance_after_fall(df)\n",
    "imbalance_after_fall"
   ]
  }
 ],
 "metadata": {
  "kernelspec": {
   "display_name": "Python 3",
   "language": "python",
   "name": "python3"
  },
  "language_info": {
   "codemirror_mode": {
    "name": "ipython",
    "version": 3
   },
   "file_extension": ".py",
   "mimetype": "text/x-python",
   "name": "python",
   "nbconvert_exporter": "python",
   "pygments_lexer": "ipython3",
   "version": "3.10.11"
  }
 },
 "nbformat": 4,
 "nbformat_minor": 2
}
