{
 "cells": [
  {
   "cell_type": "code",
   "execution_count": 10,
   "metadata": {},
   "outputs": [
    {
     "ename": "ModuleNotFoundError",
     "evalue": "No module named 'find_imbalances_after_rise'",
     "output_type": "error",
     "traceback": [
      "\u001b[1;31m---------------------------------------------------------------------------\u001b[0m",
      "\u001b[1;31mModuleNotFoundError\u001b[0m                       Traceback (most recent call last)",
      "Cell \u001b[1;32mIn [10], line 5\u001b[0m\n\u001b[0;32m      3\u001b[0m \u001b[38;5;66;03m#!pip install python-binance\u001b[39;00m\n\u001b[0;32m      4\u001b[0m \u001b[38;5;28;01mfrom\u001b[39;00m \u001b[38;5;21;01mbinance\u001b[39;00m\u001b[38;5;21;01m.\u001b[39;00m\u001b[38;5;21;01mclient\u001b[39;00m \u001b[38;5;28;01mimport\u001b[39;00m Client\n\u001b[1;32m----> 5\u001b[0m \u001b[38;5;28;01mimport\u001b[39;00m \u001b[38;5;21;01mfind_imbalances_after_rise\u001b[39;00m\u001b[38;5;241m,\u001b[39m \u001b[38;5;21;01mfind_imbalances_after_fall\u001b[39;00m\n\u001b[0;32m      6\u001b[0m \u001b[38;5;66;03m# from interact_with_binance.py import get_trading_pairs, get_available_timeframe_on_this_plateform, fetch_ohlcv\u001b[39;00m\n\u001b[0;32m      7\u001b[0m \u001b[38;5;28;01mimport\u001b[39;00m \u001b[38;5;21;01mpandas\u001b[39;00m \u001b[38;5;28;01mas\u001b[39;00m \u001b[38;5;21;01mpd\u001b[39;00m\n",
      "\u001b[1;31mModuleNotFoundError\u001b[0m: No module named 'find_imbalances_after_rise'"
     ]
    }
   ],
   "source": [
    "# Télécharger les ressources necéssaires pour utiliser le script\n",
    "#!pip install python-binance\n",
    "\n",
    "import os\n",
    "from binance.client import Client\n",
    "from Cryptocurrency Market import analysis_functions\n",
    "\n",
    "\n",
    "# from interact_with_binance.py import get_trading_pairs, get_available_timeframe_on_this_plateform, fetch_ohlcv\n",
    "import pandas as pd\n",
    "# import analysis_functions\n"
   ]
  },
  {
   "cell_type": "code",
   "execution_count": null,
   "metadata": {},
   "outputs": [],
   "source": [
    "# Récupérer les clés API à partir des variables d'environnement\n",
    "api_key = os.environ.get('BINANCE_API_KEY')\n",
    "api_secret = os.environ.get('BINANCE_API_SECRET')\n",
    "\n",
    "# Initialiser le client Binance\n",
    "client = Client(api_key, api_secret)\n",
    "\n",
    "# Récupérer l'historique des prix pour une paire donnée depuis son listing sur la plateforme\n",
    "historical_candles = client.get_historical_klines(\"BTCUSDT\", Client.KLINE_INTERVAL_1DAY, \"1 Jan, 2015\")\n",
    "df = pd.DataFrame(historical_candles, columns=['timestamp', 'open', 'high', 'low', 'close', 'volume', 'close_time', 'quote_asset_volume', 'number_of_trades', 'taker_buy_base_asset_volume', 'taker_buy_quote_asset_volume', 'ignore'])\n",
    "df['timestamp'] = pd.to_datetime(df['timestamp'], unit='ms')\n",
    "df.set_index('timestamp', inplace=True)\n",
    "\n",
    "# Identifier tous les imbalances\n",
    "imbalance_after_rise = find_imbalances_after_rise(df)\n",
    "imbalance_after_fall = find_imbalance_after_fall(df)\n",
    "all_imbalances = []\n",
    "all_imbalances.extend(imbalance_after_rise)\n",
    "all_imbalances.extend(imbalance_after_fall)\n",
    "all_imbalances"
   ]
  },
  {
   "cell_type": "code",
   "execution_count": null,
   "metadata": {},
   "outputs": [],
   "source": [
    "imbalances_after_fall = find_imbalance_after_fall(df)\n",
    "\n",
    "# retourne une liste des jours où il y a eu un imbalance suite à une baisse rapide\n",
    "list_of_imbalance_start = []\n",
    "for imbalance in imbalances_after_fall :\n",
    "    list_of_imbalance_start.append(imbalance[0])\n",
    "    \n",
    "list_of_imbalance_start"
   ]
  },
  {
   "cell_type": "code",
   "execution_count": null,
   "metadata": {},
   "outputs": [],
   "source": [
    "# Récupérer les clés API à partir des variables d'environnement\n",
    "api_key = os.environ.get('BINANCE_API_KEY')\n",
    "api_secret = os.environ.get('BINANCE_API_SECRET')\n",
    "\n",
    "# Initialiser le client Binance\n",
    "client = Client(api_key, api_secret)\n",
    "\n",
    "# Récupérer l'historique des prix pour une paire donnée depuis son listing sur la plateforme\n",
    "candles = client.get_historical_klines(\"BTCUSDT\", Client.KLINE_INTERVAL_1DAY, \"1 Jan, 2015\")\n",
    "candles_count = len(candles)\n",
    "df = pd.DataFrame(candles, columns=['timestamp', 'open', 'high', 'low', 'close', 'volume', 'close_time', 'quote_asset_volume', 'number_of_trades', 'taker_buy_base_asset_volume', 'taker_buy_quote_asset_volume', 'ignore'])\n",
    "df['timestamp'] = pd.to_datetime(df['timestamp'], unit='ms')\n",
    "df.set_index('timestamp', inplace=True)\n",
    "\n",
    "\n",
    "# Identifier tous les imbalances\n",
    "imbalance_after_fall = find_imbalance_after_fall(df)\n",
    "imbalance_after_fall"
   ]
  }
 ],
 "metadata": {
  "kernelspec": {
   "display_name": "Python 3",
   "language": "python",
   "name": "python3"
  },
  "language_info": {
   "codemirror_mode": {
    "name": "ipython",
    "version": 3
   },
   "file_extension": ".py",
   "mimetype": "text/x-python",
   "name": "python",
   "nbconvert_exporter": "python",
   "pygments_lexer": "ipython3",
   "version": "3.10.11"
  }
 },
 "nbformat": 4,
 "nbformat_minor": 2
}
