{
 "cells": [
  {
   "cell_type": "code",
   "execution_count": null,
   "metadata": {},
   "outputs": [],
   "source": [
    "# Télécharger les ressources necéssaires pour utiliser le script\n",
    "import pip\n",
    "#!pip install python-binance\n",
    "#!pip install pytz\n",
    "\n",
    "import os\n",
    "import pytz\n",
    "import pandas as pd\n",
    "from datetime import date, timedelta, datetime\n",
    "from market_imbalance import MarketImbalance, MarketCandle, create_market_candle, find_imbalances_after_fall, find_imbalances_after_rise\n",
    "#from analysis_functions import find_imbalances_after_rise, find_imbalance_after_fall\n",
    "from interact_with_binance import fetch_ohlcv, adjust_timestamps_to_local\n",
    "from binance.client import Client\n",
    "\n"
   ]
  },
  {
   "cell_type": "code",
   "execution_count": null,
   "metadata": {},
   "outputs": [],
   "source": [
    "# Récupérer les clés API à partir des variables d'environnement\n",
    "api_key = os.environ.get('BINANCE_API_KEY')\n",
    "api_secret = os.environ.get('BINANCE_API_SECRET')\n",
    "\n",
    "# Initialiser le client Binance\n",
    "client = Client(api_key, api_secret)\n",
    "\n",
    "server_time = pd.to_datetime(client.get_server_time()['serverTime'], unit='ms')\n",
    "my_time = datetime.now(pytz.timezone('Europe/Paris'))\n",
    "print(server_time)\n",
    "print(my_time)\n",
    "\n",
    "# Récupérer l'historique des prix pour une paire donnée depuis son listing sur la plateforme\n",
    "df = fetch_ohlcv(client, symbol = \"BTCUSDT\", interval=Client.KLINE_INTERVAL_1MINUTE, from_date= \"24 Mar, 2024\") #\"1 Jan, 2015\"\n",
    "df = adjust_timestamps_to_local(df, 'timestamp')"
   ]
  },
  {
   "cell_type": "code",
   "execution_count": null,
   "metadata": {},
   "outputs": [],
   "source": [
    "imbalances_after_fall = find_imbalances_after_fall(df)\n",
    "for imbalance in imbalances_after_fall[-1:]:\n",
    "    print(imbalance.timestamp, \",\", imbalance.open_price, \",\", imbalance.close_price, \",\", imbalance.delta_to_be_filled_in)\n",
    "    "
   ]
  },
  {
   "cell_type": "code",
   "execution_count": null,
   "metadata": {},
   "outputs": [],
   "source": [
    "for imbalance in imbalances_after_fall :\n",
    "        imbalance_start = (imbalance.timestamp)\n",
    "        #print('imbalance timestamp :', imbalance.timestamp)\n",
    "        #print('imbalance open price :', imbalance.open_price)\n",
    "        #print('imbalance close price :', imbalance.close_price)\n",
    "        \n",
    "        candles_after_imbalance = df[df['timestamp'] > imbalance_start] # filter df on candles after the imbalance\n",
    "        highest_price_from_now = imbalance.open_price\n",
    "        \n",
    "        \n",
    "        for index, row in candles_after_imbalance.iterrows() :\n",
    "            #print('row index :', index)\n",
    "            #print('highest price from now :', highest_price_from_now)\n",
    "            if row['high'] >= imbalance.close_price :\n",
    "                MarketImbalance.mark_as_full_filled(imbalance, row['timestamp']) # update is_full_filled=False to True,and replace was_fullfilled_at=None by was_fullfilled_at=candle['timestamp']\n",
    "                MarketImbalance.update_time_to_be_fullfilled(imbalance, row['timestamp'])\n",
    "\n",
    "            elif row['high'] > highest_price_from_now : \n",
    "                highest_price_from_now = row['high']\n",
    "                \n",
    "                \n",
    "# Maintenant j'ai ma fonction qui vérifie si les imbalances sont comblés.\n",
    "# Regardons si leur statut est cahngé dans la classe.         \n",
    "\n",
    "fullfilled_imbalances = list(filter(lambda imbalance: imbalance.is_full_filled, imbalances_after_fall))\n",
    "for imb in fullfilled_imbalances[-3:] :\n",
    "    print('imbalance that started on', imb.timestamp, 'was full filled on', imb.was_fullfilled_at, 'within', imb.was_fullfilled_at - imb.timestamp, 'open price =', imb.open_price, 'close_price =', imb.close_price)"
   ]
  },
  {
   "cell_type": "code",
   "execution_count": null,
   "metadata": {},
   "outputs": [],
   "source": [
    "# il faut récupérer le dataframe avec l'ensemble des bougies du marché.\n",
    "# ensuite il faut récupérer les imbalances\n",
    "# pour chaque imbalance, nous allons vérifier les éléments suivants\n",
    "\n",
    "def get_fullfilled_candles(df_of_market_data, imbalances) :\n",
    "    for imbalance in imbalances[-1:] :\n",
    "        imbalance_start = (imbalance.timestamp)\n",
    "        print('imbalance open price :', imbalance.open_price)\n",
    "        print('imbalance close price :', imbalance.close_price)\n",
    "        print('imbalance timestamp :', imbalance.timestamp)\n",
    "        \n",
    "        candles_after_imbalance = df_of_market_data[df_of_market_data['timestamp'] > imbalance_start] #filter df on candles after the imbalance\n",
    "        \n",
    "        highest_price_from_now = imbalance.open_price\n",
    "        last_row_index = df_of_market_data.iloc[-1]\n",
    "        print(last_row_index)\n",
    "        \n",
    "        for index, row in candles_after_imbalance.iterrows() :\n",
    "            while imbalance.is_full_filled == False :\n",
    "                print('row index :', index)\n",
    "                print('highest price from now :', highest_price_from_now)\n",
    "                if row['high'] >= imbalance.close_price :\n",
    "                    MarketImbalance.mark_as_full_filled(imbalance, row['timestamp']) # update is_full_filled=False to True,and replace was_fullfilled_at=None by was_fullfilled_at=candle['timestamp']\n",
    "    \n",
    "                elif row['high'] > highest_price_from_now : \n",
    "                    highest_price_from_now = row['high']\n",
    "            \n",
    "            \n",
    "        \n",
    "    print(imbalance.is_full_filled)\n",
    "    #return candles_after_imbalance\n",
    "        \n",
    "get_fullfilled_candles(df_of_market_data=df, imbalances=imbalances_after_fall)\n",
    "\n",
    "\n",
    "# Imbalance.candles_of_fullfilling"
   ]
  },
  {
   "cell_type": "code",
   "execution_count": null,
   "metadata": {},
   "outputs": [],
   "source": [
    "imbalances_after_rise = find_imbalances_after_rise(df)\n",
    "for imbalance in imbalances_after_rise:\n",
    "    print(imbalance.timestamp, \",\", imbalance.open_price, \",\", imbalance.close_price, \",\", imbalance.delta_to_be_filled_in)"
   ]
  },
  {
   "cell_type": "code",
   "execution_count": null,
   "metadata": {},
   "outputs": [],
   "source": [
    "Imbalance_candles = pd.DataFrame([previous_candles, current_candles, next_candles], columns=['timestamp', 'open', 'high', 'low', 'close', 'volume', 'close_time', 'quote_asset_volume', 'number_of_trades', 'taker_buy_base_asset_volume', 'taker_buy_quote_asset_volume', 'ignore'])\n",
    "Imbalance_candles"
   ]
  },
  {
   "cell_type": "code",
   "execution_count": null,
   "metadata": {},
   "outputs": [],
   "source": [
    "# Identifier tous les imbalances\n",
    "all_imbalances = find_imbalances_after_rise(df) + find_imbalances_after_fall(df)\n",
    "print(len(all_imbalances))\n",
    "\n",
    "# Return all imbalances\n",
    "all_imbalances"
   ]
  },
  {
   "cell_type": "code",
   "execution_count": null,
   "metadata": {},
   "outputs": [],
   "source": [
    "# retourne une liste des jours où il y a eu des imbalances\n",
    "list_of_imbalance_start = []\n",
    "for imbalance in all_imbalances :\n",
    "    list_of_imbalance_start.append(imbalance[0])\n"
   ]
  },
  {
   "cell_type": "code",
   "execution_count": null,
   "metadata": {},
   "outputs": [],
   "source": [
    "# retourne une liste des jours où il y a eu des imbalances qui n'ont pas été comblés par la suite\n",
    "random_imbalance_after_a_rise = find_imbalances_after_rise(df)\n",
    "\n",
    "df_exp = pd.DataFrame(random_imbalance_after_a_rise, columns=['timestamp', 'open', 'high', 'low', 'close', 'volume', 'close_time', 'quote_asset_volume', 'number_of_trades', 'taker_buy_base_asset_volume', 'taker_buy_quote_asset_volume', 'ignore'])\n",
    "df_exp['timestamp'] = pd.to_datetime(df_exp['timestamp'], unit='ms')\n",
    "df_exp.set_index('timestamp', inplace=True)"
   ]
  },
  {
   "cell_type": "code",
   "execution_count": null,
   "metadata": {},
   "outputs": [],
   "source": [
    "# un imbalance après une hausse est comblé si :\n",
    "imbalance_timestamp = timestamp_imb\n",
    "imbalance_open = n+1[low]\n",
    "imbalance_close = n-1[high]\n",
    "imbalance_depth = imbalance_open - imbalance_close\n",
    "is_imbalance_filled = \"function is_imbalance_filled_(imbalance, toutes les occurences dérrière)\"\n",
    "\n",
    "    \"\"\" pour chaque bougie après l'imbalance, regarder le prix le plus bas de la bougie. \n",
    "        si le prix le plus est égal ou inférieur à imbalance_close,\n",
    "        alors is_imbalance_full_filled == true\n",
    "        & imbalance_was_fullfilled_at = bougie[timestamp]\n",
    "        \n",
    "        si le prix le plus bas est strictement inférieur à imbalance_open\n",
    "        is_imbalance_partially_filled == true\n",
    "        \n",
    "        \n",
    "        mettre à jour la caractéristique de l'imbalance \n",
    "    \"\"\"\n"
   ]
  },
  {
   "cell_type": "code",
   "execution_count": null,
   "metadata": {},
   "outputs": [],
   "source": [
    "# code à modifier afin de pouvoir travailler avec tradingview sur des timeframes en heure et en minutes.\n",
    "# Je suis limité à 5000 barres dans tradingview. Je dois donc réduire la liste des imbalances à ceux réalisés dans les 5000 derniers jours à partir d'aujourd'hui\n",
    "# Get today's date\n",
    "today = date.today()\n",
    "\n",
    "# Calculate the date 5000 days ago\n",
    "days_ago = today - timedelta(days=5000)\n",
    "print(days_ago)\n",
    "\n",
    "# Filter dates within the last 5000 days\n",
    "recent_dates = [d for d in list_of_imbalance_start if d >= days_ago]\n",
    "\n",
    "# Print recent dates\n",
    "print(\"Recent dates within the last 5000 days:\")\n",
    "for d in recent_dates:\n",
    "    print(d)"
   ]
  }
 ],
 "metadata": {
  "kernelspec": {
   "display_name": "Python 3",
   "language": "python",
   "name": "python3"
  },
  "language_info": {
   "codemirror_mode": {
    "name": "ipython",
    "version": 3
   },
   "file_extension": ".py",
   "mimetype": "text/x-python",
   "name": "python",
   "nbconvert_exporter": "python",
   "pygments_lexer": "ipython3",
   "version": "3.10.11"
  }
 },
 "nbformat": 4,
 "nbformat_minor": 2
}
