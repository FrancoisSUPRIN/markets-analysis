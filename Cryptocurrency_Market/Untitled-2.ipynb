{
 "cells": [
  {
   "cell_type": "code",
   "execution_count": 1,
   "metadata": {},
   "outputs": [
    {
     "ename": "ModuleNotFoundError",
     "evalue": "No module named 'interact_with_binance'",
     "output_type": "error",
     "traceback": [
      "\u001b[1;31m---------------------------------------------------------------------------\u001b[0m",
      "\u001b[1;31mModuleNotFoundError\u001b[0m                       Traceback (most recent call last)",
      "Cell \u001b[1;32mIn [1], line 3\u001b[0m\n\u001b[0;32m      1\u001b[0m \u001b[38;5;66;03m# !pip install python-binance\u001b[39;00m\n\u001b[0;32m      2\u001b[0m \u001b[38;5;28;01mimport\u001b[39;00m \u001b[38;5;21;01mos\u001b[39;00m\n\u001b[1;32m----> 3\u001b[0m \u001b[38;5;28;01mfrom\u001b[39;00m \u001b[38;5;21;01minteract_with_binance\u001b[39;00m \u001b[38;5;28;01mimport\u001b[39;00m fetch_ohlcv\n\u001b[0;32m      4\u001b[0m \u001b[38;5;28;01mfrom\u001b[39;00m \u001b[38;5;21;01mmarket_imbalance\u001b[39;00m \u001b[38;5;28;01mimport\u001b[39;00m MarketCandle\n\u001b[0;32m      5\u001b[0m \u001b[38;5;28;01mfrom\u001b[39;00m \u001b[38;5;21;01mbinance\u001b[39;00m\u001b[38;5;21;01m.\u001b[39;00m\u001b[38;5;21;01mclient\u001b[39;00m \u001b[38;5;28;01mimport\u001b[39;00m Client\n",
      "\u001b[1;31mModuleNotFoundError\u001b[0m: No module named 'interact_with_binance'"
     ]
    }
   ],
   "source": [
    "# !pip install python-binance\n",
    "import os\n",
    "from interact_with_binance import fetch_ohlcv\n",
    "from market_imbalance import MarketCandle\n",
    "from binance.client import Client\n",
    "\n",
    "\n",
    "api_key = os.environ.get('BINANCE_API_KEY')\n",
    "api_secret = os.environ.get('BINANCE_API_SECRET')\n",
    "client = Client(api_key, api_secret)\n",
    "\n",
    "# Récupère les données de marché en *temps différé* sur Binance\n",
    "interval_value = Client.KLINE_INTERVAL_1MINUTE\n",
    "historical_candles_data = fetch_ohlcv(client, symbol = \"BTCUSDT\", interval=interval_value, from_date= \"1 avril 2024\") #\"1 Jan, 2015\"\n",
    "\n",
    "# Stocke les informations de chaque bougie dans un objet afin de pouvoir les retravailler plus facilement par la suite\n",
    "historical_candles_object = [MarketCandle(*candle) for candle in historical_candles_data]"
   ]
  },
  {
   "cell_type": "code",
   "execution_count": null,
   "metadata": {},
   "outputs": [],
   "source": [
    "from market_imbalance import imbalances_after_fall, fullfilled_imbalances_after_fall, imbalances_after_rise, fullfilled_imbalances_after_rise\n",
    "\n",
    "# Percentage of gap filled after fall\n",
    "percentage_filled_after_fall = (len(fullfilled_imbalances_after_fall) / len(imbalances_after_fall)) * 100\n",
    "print(f'% of filled gap after fall = {percentage_filled_after_fall} with {len(fullfilled_imbalances_after_fall)} fullfilled imbalances on {len(imbalances_after_fall)} in total')\n",
    "\n",
    "# Percentage of gap filled after rise\n",
    "percentage_filled_after_rise = (len(fullfilled_imbalances_after_rise) / len(imbalances_after_rise)) * 100\n",
    "print(f'% of filled gap after rise = {percentage_filled_after_rise} with {len(fullfilled_imbalances_after_rise)} fullfilled imbalances on {len(imbalances_after_rise)} in total')"
   ]
  }
 ],
 "metadata": {
  "kernelspec": {
   "display_name": "Python 3",
   "language": "python",
   "name": "python3"
  },
  "language_info": {
   "codemirror_mode": {
    "name": "ipython",
    "version": 3
   },
   "file_extension": ".py",
   "mimetype": "text/x-python",
   "name": "python",
   "nbconvert_exporter": "python",
   "pygments_lexer": "ipython3",
   "version": "3.10.11"
  }
 },
 "nbformat": 4,
 "nbformat_minor": 2
}
