{
 "cells": [
  {
   "cell_type": "code",
   "execution_count": 1,
   "metadata": {},
   "outputs": [],
   "source": [
    "from market_imbalance import MarketImbalance, sort_imbalances_by_timestamp\n",
    "from plot_market_candles_with_plotly import plot_market_candles_with_plotly\n",
    "\n",
    "def find_imbalances_after_fall(historical_candles):\n",
    "    imbalances_after_fall = []\n",
    "    for index in range(len(historical_candles)):\n",
    "        if index == 0 or index == len(historical_candles) - 1:\n",
    "            continue\n",
    "        prev_candle = historical_candles[index - 1]\n",
    "        current_candle = historical_candles[index]\n",
    "        next_candle = historical_candles[index + 1]\n",
    "        if prev_candle.low_price > next_candle.high_price:\n",
    "            delta_to_be_filled_in = prev_candle.low_price - next_candle.high_price\n",
    "            \n",
    "            imbalance = MarketImbalance(\n",
    "                imbalance_type=\"imbalance_after_fall\",\n",
    "                timestamp=current_candle.timestamp,\n",
    "                open_price=next_candle.high_price,\n",
    "                close_price=prev_candle.low_price,\n",
    "                delta_to_be_filled_in=delta_to_be_filled_in,\n",
    "                is_full_filled=False,\n",
    "                was_fullfilled_at=None,\n",
    "                time_to_be_fullfilled=None,\n",
    "                is_partially_filled=False,\n",
    "                remaining_delta_open_price=None,\n",
    "                remaining_delta_to_be_filled_in=None,\n",
    "                candles_of_identification=(prev_candle, current_candle, next_candle),\n",
    "                candles_of_fullfilling=None,\n",
    "                candles_of_partfilling=None\n",
    "            )\n",
    "            imbalances_after_fall.append(imbalance)\n",
    "    return imbalances_after_fall\n",
    "\n",
    "def find_imbalances_after_rise(historical_candles):\n",
    "    imbalances_after_rise = []\n",
    "    for index in range(len(historical_candles)):\n",
    "        if index == 0 or index == len(historical_candles) - 1:\n",
    "            continue\n",
    "        prev_candle = historical_candles[index - 1]\n",
    "        current_candle = historical_candles[index]\n",
    "        next_candle = historical_candles[index + 1]\n",
    "        if prev_candle.high_price < next_candle.low_price:\n",
    "            delta_to_be_filled_in = next_candle.low_price - prev_candle.high_price\n",
    "            \n",
    "            imbalance = MarketImbalance(\n",
    "                imbalance_type=\"imbalance_after_rise\",\n",
    "                timestamp=current_candle.timestamp,\n",
    "                open_price=next_candle.low_price,\n",
    "                close_price=prev_candle.high_price,\n",
    "                delta_to_be_filled_in=delta_to_be_filled_in,\n",
    "                is_full_filled=False,\n",
    "                was_fullfilled_at=None,\n",
    "                time_to_be_fullfilled=None,\n",
    "                is_partially_filled=False,\n",
    "                remaining_delta_open_price=None,\n",
    "                remaining_delta_to_be_filled_in=None,\n",
    "                candles_of_identification=(prev_candle, current_candle, next_candle),\n",
    "                candles_of_fullfilling=None,\n",
    "                candles_of_partfilling=None\n",
    "            )\n",
    "            imbalances_after_rise.append(imbalance)\n",
    "    return imbalances_after_rise\n",
    "\n",
    "def get_unfilled_imbalances(imbalances):\n",
    "    unfilled_imbalances = [imbalance for imbalance in imbalances if not imbalance.is_full_filled]\n",
    "    return unfilled_imbalances\n",
    "\n",
    "def get_fullfilled_imbalances(imbalances):\n",
    "    fullfilled_imbalances = [imbalance for imbalance in imbalances if imbalance.is_full_filled]\n",
    "    return fullfilled_imbalances\n"
   ]
  },
  {
   "cell_type": "code",
   "execution_count": 4,
   "metadata": {},
   "outputs": [
    {
     "data": {
      "application/vnd.plotly.v1+json": {
       "config": {
        "plotlyServerURL": "https://plot.ly"
       },
       "data": [
        {
         "close": [
          65485.23,
          65275.62,
          65129.74,
          65138.19,
          64906.14,
          65466.74,
          66463.63,
          66263.84,
          66287.21,
          66578.39,
          66465.56,
          65860.12,
          66028.17,
          65865.77,
          64235.24,
          64568.81,
          64148.61,
          63908.48,
          63170.87,
          63301.11,
          63112.96,
          63262.94,
          63459.98,
          63419.99,
          63254.74,
          63147.5,
          63401.55,
          62956,
          62487,
          62700.41,
          63195.12,
          63516.19,
          63288.48,
          63242.19,
          62559.23,
          62700.57
         ],
         "high": [
          65867.45,
          65706.53,
          65361.47,
          65323.77,
          65170.22,
          65512.2,
          66558.78,
          66582.84,
          66457.88,
          66867.07,
          66646.18,
          66720.64,
          66243.12,
          66399,
          65977,
          64792.88,
          64868.28,
          64745.2,
          64060.34,
          63632.5,
          63633.02,
          63474.55,
          63527.31,
          63558,
          63719.98,
          63899.69,
          63500,
          63554.99,
          63029.13,
          62888,
          63254.88,
          63800,
          63660,
          63578.34,
          63340.66,
          62843.96
         ],
         "low": [
          65283.11,
          65042.98,
          64937.01,
          65030.88,
          64683.01,
          64903.6,
          65355.45,
          66151.41,
          66064.48,
          66119.12,
          66378.03,
          65807.25,
          65797.73,
          65684.65,
          64183.99,
          63810,
          63892.88,
          63310.99,
          63111,
          62274.4,
          62942.82,
          62632,
          62700,
          63179.21,
          62933.33,
          63089,
          62750,
          62799.32,
          61680,
          62366.44,
          62636.73,
          63104.4,
          63077.02,
          63198.67,
          61600,
          62451.55
         ],
         "open": [
          65661.85,
          65485.22,
          65275.63,
          65129.73,
          65138.2,
          64906.13,
          65466.73,
          66463.63,
          66263.84,
          66287.22,
          66578.39,
          66465.57,
          65860.12,
          66028.17,
          65865.78,
          64235.25,
          64568.8,
          64148.61,
          63908.48,
          63170.86,
          63301.11,
          63112.96,
          63262.94,
          63459.98,
          63419.99,
          63254.74,
          63147.5,
          63401.56,
          62956,
          62487,
          62700.41,
          63195.13,
          63516.18,
          63288.48,
          63242.18,
          62559.22
         ],
         "type": "candlestick",
         "x": [
          "2024-04-15T00:00:00",
          "2024-04-15T01:00:00",
          "2024-04-15T02:00:00",
          "2024-04-15T03:00:00",
          "2024-04-15T04:00:00",
          "2024-04-15T05:00:00",
          "2024-04-15T06:00:00",
          "2024-04-15T07:00:00",
          "2024-04-15T08:00:00",
          "2024-04-15T09:00:00",
          "2024-04-15T10:00:00",
          "2024-04-15T11:00:00",
          "2024-04-15T12:00:00",
          "2024-04-15T13:00:00",
          "2024-04-15T14:00:00",
          "2024-04-15T15:00:00",
          "2024-04-15T16:00:00",
          "2024-04-15T17:00:00",
          "2024-04-15T18:00:00",
          "2024-04-15T19:00:00",
          "2024-04-15T20:00:00",
          "2024-04-15T21:00:00",
          "2024-04-15T22:00:00",
          "2024-04-15T23:00:00",
          "2024-04-16T00:00:00",
          "2024-04-16T01:00:00",
          "2024-04-16T02:00:00",
          "2024-04-16T03:00:00",
          "2024-04-16T04:00:00",
          "2024-04-16T05:00:00",
          "2024-04-16T06:00:00",
          "2024-04-16T07:00:00",
          "2024-04-16T08:00:00",
          "2024-04-16T09:00:00",
          "2024-04-16T10:00:00",
          "2024-04-16T11:00:00"
         ]
        }
       ],
       "layout": {
        "height": 1000,
        "template": {
         "data": {
          "bar": [
           {
            "error_x": {
             "color": "#2a3f5f"
            },
            "error_y": {
             "color": "#2a3f5f"
            },
            "marker": {
             "line": {
              "color": "#E5ECF6",
              "width": 0.5
             },
             "pattern": {
              "fillmode": "overlay",
              "size": 10,
              "solidity": 0.2
             }
            },
            "type": "bar"
           }
          ],
          "barpolar": [
           {
            "marker": {
             "line": {
              "color": "#E5ECF6",
              "width": 0.5
             },
             "pattern": {
              "fillmode": "overlay",
              "size": 10,
              "solidity": 0.2
             }
            },
            "type": "barpolar"
           }
          ],
          "carpet": [
           {
            "aaxis": {
             "endlinecolor": "#2a3f5f",
             "gridcolor": "white",
             "linecolor": "white",
             "minorgridcolor": "white",
             "startlinecolor": "#2a3f5f"
            },
            "baxis": {
             "endlinecolor": "#2a3f5f",
             "gridcolor": "white",
             "linecolor": "white",
             "minorgridcolor": "white",
             "startlinecolor": "#2a3f5f"
            },
            "type": "carpet"
           }
          ],
          "choropleth": [
           {
            "colorbar": {
             "outlinewidth": 0,
             "ticks": ""
            },
            "type": "choropleth"
           }
          ],
          "contour": [
           {
            "colorbar": {
             "outlinewidth": 0,
             "ticks": ""
            },
            "colorscale": [
             [
              0,
              "#0d0887"
             ],
             [
              0.1111111111111111,
              "#46039f"
             ],
             [
              0.2222222222222222,
              "#7201a8"
             ],
             [
              0.3333333333333333,
              "#9c179e"
             ],
             [
              0.4444444444444444,
              "#bd3786"
             ],
             [
              0.5555555555555556,
              "#d8576b"
             ],
             [
              0.6666666666666666,
              "#ed7953"
             ],
             [
              0.7777777777777778,
              "#fb9f3a"
             ],
             [
              0.8888888888888888,
              "#fdca26"
             ],
             [
              1,
              "#f0f921"
             ]
            ],
            "type": "contour"
           }
          ],
          "contourcarpet": [
           {
            "colorbar": {
             "outlinewidth": 0,
             "ticks": ""
            },
            "type": "contourcarpet"
           }
          ],
          "heatmap": [
           {
            "colorbar": {
             "outlinewidth": 0,
             "ticks": ""
            },
            "colorscale": [
             [
              0,
              "#0d0887"
             ],
             [
              0.1111111111111111,
              "#46039f"
             ],
             [
              0.2222222222222222,
              "#7201a8"
             ],
             [
              0.3333333333333333,
              "#9c179e"
             ],
             [
              0.4444444444444444,
              "#bd3786"
             ],
             [
              0.5555555555555556,
              "#d8576b"
             ],
             [
              0.6666666666666666,
              "#ed7953"
             ],
             [
              0.7777777777777778,
              "#fb9f3a"
             ],
             [
              0.8888888888888888,
              "#fdca26"
             ],
             [
              1,
              "#f0f921"
             ]
            ],
            "type": "heatmap"
           }
          ],
          "heatmapgl": [
           {
            "colorbar": {
             "outlinewidth": 0,
             "ticks": ""
            },
            "colorscale": [
             [
              0,
              "#0d0887"
             ],
             [
              0.1111111111111111,
              "#46039f"
             ],
             [
              0.2222222222222222,
              "#7201a8"
             ],
             [
              0.3333333333333333,
              "#9c179e"
             ],
             [
              0.4444444444444444,
              "#bd3786"
             ],
             [
              0.5555555555555556,
              "#d8576b"
             ],
             [
              0.6666666666666666,
              "#ed7953"
             ],
             [
              0.7777777777777778,
              "#fb9f3a"
             ],
             [
              0.8888888888888888,
              "#fdca26"
             ],
             [
              1,
              "#f0f921"
             ]
            ],
            "type": "heatmapgl"
           }
          ],
          "histogram": [
           {
            "marker": {
             "pattern": {
              "fillmode": "overlay",
              "size": 10,
              "solidity": 0.2
             }
            },
            "type": "histogram"
           }
          ],
          "histogram2d": [
           {
            "colorbar": {
             "outlinewidth": 0,
             "ticks": ""
            },
            "colorscale": [
             [
              0,
              "#0d0887"
             ],
             [
              0.1111111111111111,
              "#46039f"
             ],
             [
              0.2222222222222222,
              "#7201a8"
             ],
             [
              0.3333333333333333,
              "#9c179e"
             ],
             [
              0.4444444444444444,
              "#bd3786"
             ],
             [
              0.5555555555555556,
              "#d8576b"
             ],
             [
              0.6666666666666666,
              "#ed7953"
             ],
             [
              0.7777777777777778,
              "#fb9f3a"
             ],
             [
              0.8888888888888888,
              "#fdca26"
             ],
             [
              1,
              "#f0f921"
             ]
            ],
            "type": "histogram2d"
           }
          ],
          "histogram2dcontour": [
           {
            "colorbar": {
             "outlinewidth": 0,
             "ticks": ""
            },
            "colorscale": [
             [
              0,
              "#0d0887"
             ],
             [
              0.1111111111111111,
              "#46039f"
             ],
             [
              0.2222222222222222,
              "#7201a8"
             ],
             [
              0.3333333333333333,
              "#9c179e"
             ],
             [
              0.4444444444444444,
              "#bd3786"
             ],
             [
              0.5555555555555556,
              "#d8576b"
             ],
             [
              0.6666666666666666,
              "#ed7953"
             ],
             [
              0.7777777777777778,
              "#fb9f3a"
             ],
             [
              0.8888888888888888,
              "#fdca26"
             ],
             [
              1,
              "#f0f921"
             ]
            ],
            "type": "histogram2dcontour"
           }
          ],
          "mesh3d": [
           {
            "colorbar": {
             "outlinewidth": 0,
             "ticks": ""
            },
            "type": "mesh3d"
           }
          ],
          "parcoords": [
           {
            "line": {
             "colorbar": {
              "outlinewidth": 0,
              "ticks": ""
             }
            },
            "type": "parcoords"
           }
          ],
          "pie": [
           {
            "automargin": true,
            "type": "pie"
           }
          ],
          "scatter": [
           {
            "fillpattern": {
             "fillmode": "overlay",
             "size": 10,
             "solidity": 0.2
            },
            "type": "scatter"
           }
          ],
          "scatter3d": [
           {
            "line": {
             "colorbar": {
              "outlinewidth": 0,
              "ticks": ""
             }
            },
            "marker": {
             "colorbar": {
              "outlinewidth": 0,
              "ticks": ""
             }
            },
            "type": "scatter3d"
           }
          ],
          "scattercarpet": [
           {
            "marker": {
             "colorbar": {
              "outlinewidth": 0,
              "ticks": ""
             }
            },
            "type": "scattercarpet"
           }
          ],
          "scattergeo": [
           {
            "marker": {
             "colorbar": {
              "outlinewidth": 0,
              "ticks": ""
             }
            },
            "type": "scattergeo"
           }
          ],
          "scattergl": [
           {
            "marker": {
             "colorbar": {
              "outlinewidth": 0,
              "ticks": ""
             }
            },
            "type": "scattergl"
           }
          ],
          "scattermapbox": [
           {
            "marker": {
             "colorbar": {
              "outlinewidth": 0,
              "ticks": ""
             }
            },
            "type": "scattermapbox"
           }
          ],
          "scatterpolar": [
           {
            "marker": {
             "colorbar": {
              "outlinewidth": 0,
              "ticks": ""
             }
            },
            "type": "scatterpolar"
           }
          ],
          "scatterpolargl": [
           {
            "marker": {
             "colorbar": {
              "outlinewidth": 0,
              "ticks": ""
             }
            },
            "type": "scatterpolargl"
           }
          ],
          "scatterternary": [
           {
            "marker": {
             "colorbar": {
              "outlinewidth": 0,
              "ticks": ""
             }
            },
            "type": "scatterternary"
           }
          ],
          "surface": [
           {
            "colorbar": {
             "outlinewidth": 0,
             "ticks": ""
            },
            "colorscale": [
             [
              0,
              "#0d0887"
             ],
             [
              0.1111111111111111,
              "#46039f"
             ],
             [
              0.2222222222222222,
              "#7201a8"
             ],
             [
              0.3333333333333333,
              "#9c179e"
             ],
             [
              0.4444444444444444,
              "#bd3786"
             ],
             [
              0.5555555555555556,
              "#d8576b"
             ],
             [
              0.6666666666666666,
              "#ed7953"
             ],
             [
              0.7777777777777778,
              "#fb9f3a"
             ],
             [
              0.8888888888888888,
              "#fdca26"
             ],
             [
              1,
              "#f0f921"
             ]
            ],
            "type": "surface"
           }
          ],
          "table": [
           {
            "cells": {
             "fill": {
              "color": "#EBF0F8"
             },
             "line": {
              "color": "white"
             }
            },
            "header": {
             "fill": {
              "color": "#C8D4E3"
             },
             "line": {
              "color": "white"
             }
            },
            "type": "table"
           }
          ]
         },
         "layout": {
          "annotationdefaults": {
           "arrowcolor": "#2a3f5f",
           "arrowhead": 0,
           "arrowwidth": 1
          },
          "autotypenumbers": "strict",
          "coloraxis": {
           "colorbar": {
            "outlinewidth": 0,
            "ticks": ""
           }
          },
          "colorscale": {
           "diverging": [
            [
             0,
             "#8e0152"
            ],
            [
             0.1,
             "#c51b7d"
            ],
            [
             0.2,
             "#de77ae"
            ],
            [
             0.3,
             "#f1b6da"
            ],
            [
             0.4,
             "#fde0ef"
            ],
            [
             0.5,
             "#f7f7f7"
            ],
            [
             0.6,
             "#e6f5d0"
            ],
            [
             0.7,
             "#b8e186"
            ],
            [
             0.8,
             "#7fbc41"
            ],
            [
             0.9,
             "#4d9221"
            ],
            [
             1,
             "#276419"
            ]
           ],
           "sequential": [
            [
             0,
             "#0d0887"
            ],
            [
             0.1111111111111111,
             "#46039f"
            ],
            [
             0.2222222222222222,
             "#7201a8"
            ],
            [
             0.3333333333333333,
             "#9c179e"
            ],
            [
             0.4444444444444444,
             "#bd3786"
            ],
            [
             0.5555555555555556,
             "#d8576b"
            ],
            [
             0.6666666666666666,
             "#ed7953"
            ],
            [
             0.7777777777777778,
             "#fb9f3a"
            ],
            [
             0.8888888888888888,
             "#fdca26"
            ],
            [
             1,
             "#f0f921"
            ]
           ],
           "sequentialminus": [
            [
             0,
             "#0d0887"
            ],
            [
             0.1111111111111111,
             "#46039f"
            ],
            [
             0.2222222222222222,
             "#7201a8"
            ],
            [
             0.3333333333333333,
             "#9c179e"
            ],
            [
             0.4444444444444444,
             "#bd3786"
            ],
            [
             0.5555555555555556,
             "#d8576b"
            ],
            [
             0.6666666666666666,
             "#ed7953"
            ],
            [
             0.7777777777777778,
             "#fb9f3a"
            ],
            [
             0.8888888888888888,
             "#fdca26"
            ],
            [
             1,
             "#f0f921"
            ]
           ]
          },
          "colorway": [
           "#636efa",
           "#EF553B",
           "#00cc96",
           "#ab63fa",
           "#FFA15A",
           "#19d3f3",
           "#FF6692",
           "#B6E880",
           "#FF97FF",
           "#FECB52"
          ],
          "font": {
           "color": "#2a3f5f"
          },
          "geo": {
           "bgcolor": "white",
           "lakecolor": "white",
           "landcolor": "#E5ECF6",
           "showlakes": true,
           "showland": true,
           "subunitcolor": "white"
          },
          "hoverlabel": {
           "align": "left"
          },
          "hovermode": "closest",
          "mapbox": {
           "style": "light"
          },
          "paper_bgcolor": "white",
          "plot_bgcolor": "#E5ECF6",
          "polar": {
           "angularaxis": {
            "gridcolor": "white",
            "linecolor": "white",
            "ticks": ""
           },
           "bgcolor": "#E5ECF6",
           "radialaxis": {
            "gridcolor": "white",
            "linecolor": "white",
            "ticks": ""
           }
          },
          "scene": {
           "xaxis": {
            "backgroundcolor": "#E5ECF6",
            "gridcolor": "white",
            "gridwidth": 2,
            "linecolor": "white",
            "showbackground": true,
            "ticks": "",
            "zerolinecolor": "white"
           },
           "yaxis": {
            "backgroundcolor": "#E5ECF6",
            "gridcolor": "white",
            "gridwidth": 2,
            "linecolor": "white",
            "showbackground": true,
            "ticks": "",
            "zerolinecolor": "white"
           },
           "zaxis": {
            "backgroundcolor": "#E5ECF6",
            "gridcolor": "white",
            "gridwidth": 2,
            "linecolor": "white",
            "showbackground": true,
            "ticks": "",
            "zerolinecolor": "white"
           }
          },
          "shapedefaults": {
           "line": {
            "color": "#2a3f5f"
           }
          },
          "ternary": {
           "aaxis": {
            "gridcolor": "white",
            "linecolor": "white",
            "ticks": ""
           },
           "baxis": {
            "gridcolor": "white",
            "linecolor": "white",
            "ticks": ""
           },
           "bgcolor": "#E5ECF6",
           "caxis": {
            "gridcolor": "white",
            "linecolor": "white",
            "ticks": ""
           }
          },
          "title": {
           "x": 0.05
          },
          "xaxis": {
           "automargin": true,
           "gridcolor": "white",
           "linecolor": "white",
           "ticks": "",
           "title": {
            "standoff": 15
           },
           "zerolinecolor": "white",
           "zerolinewidth": 2
          },
          "yaxis": {
           "automargin": true,
           "gridcolor": "white",
           "linecolor": "white",
           "ticks": "",
           "title": {
            "standoff": 15
           },
           "zerolinecolor": "white",
           "zerolinewidth": 2
          }
         }
        },
        "title": {
         "text": "Bougies BTCUSDT"
        },
        "xaxis": {
         "title": {
          "text": "Date"
         }
        },
        "yaxis": {
         "title": {
          "text": "Prix"
         }
        }
       }
      }
     },
     "metadata": {},
     "output_type": "display_data"
    }
   ],
   "source": [
    "# !pip install python-binance\n",
    "import os\n",
    "from interact_with_binance import fetch_ohlcv, fetch_ohlcv_as_df\n",
    "from market_candles import MarketCandle\n",
    "from binance.client import Client\n",
    "from convert_ts_to_datetime import convert_ts_to_datetime\n",
    "\n",
    "\n",
    "api_key = os.environ.get('BINANCE_API_KEY')\n",
    "api_secret = os.environ.get('BINANCE_API_SECRET')\n",
    "client = Client(api_key, api_secret)\n",
    "\n",
    "# Récupère les données de marché en *temps différé* sur Binance\n",
    "interval_value = Client.KLINE_INTERVAL_1HOUR\n",
    "from_date = \"15 avril 2024\"\n",
    "\n",
    "# Permet d'afficher les données à l'heure française\n",
    "\n",
    "historical_candles = fetch_ohlcv(client, symbol = \"BTCUSDT\", interval=interval_value, from_date=from_date) #\"1 Jan, 2015\"\n",
    "historical_candles_df = fetch_ohlcv_as_df(client, symbol = \"BTCUSDT\", interval=interval_value, from_date=from_date) #\"1 Jan, 2015\"\n",
    "plot_market_candles_with_plotly(historical_candles_df)\n"
   ]
  },
  {
   "cell_type": "code",
   "execution_count": 8,
   "metadata": {},
   "outputs": [
    {
     "name": "stdout",
     "output_type": "stream",
     "text": [
      "imbalance_after_fall 2024-04-15 13:00:00+02:00\n",
      "imbalance_after_fall 2024-04-15 16:00:00+02:00\n",
      "imbalance_after_fall 2024-04-16 12:00:00+02:00\n"
     ]
    }
   ],
   "source": [
    "# Récupère les imbalances à partir des infos de marché\n",
    "imbalances_after_fall = find_imbalances_after_fall(historical_candles)\n",
    "imbalances_after_rise = find_imbalances_after_rise(historical_candles)\n",
    "\n",
    "for imb in imbalances_after_fall:\n",
    "    print(imb.imbalance_type, convert_ts_to_datetime(imb.timestamp))\n"
   ]
  },
  {
   "cell_type": "code",
   "execution_count": null,
   "metadata": {},
   "outputs": [],
   "source": [
    "# Identifie uniquement les imbalances déjà comblés\n",
    "fullfilled_imbalances_after_fall = get_fullfilled_imbalances(imbalances_after_fall)\n",
    "fullfilled_imbalances_after_rise = get_fullfilled_imbalances(imbalances_after_rise)\n",
    "\n",
    "# Identifie uniquement les imbalances qu'il reste à combler\n",
    "unfilled_imbalances_after_fall = get_unfilled_imbalances(imbalances_after_fall)\n",
    "unfilled_imbalances_after_rise = get_unfilled_imbalances(imbalances_after_rise)\n",
    "\n",
    "# Percentage of gap filled after fall\n",
    "percentage_filled_after_fall = (len(fullfilled_imbalances_after_fall) / len(imbalances_after_fall)) * 100\n",
    "print(f'% of filled gap after fall = {percentage_filled_after_fall} with {len(fullfilled_imbalances_after_fall)} fullfilled imbalances on {len(imbalances_after_fall)} in total')\n",
    "\n",
    "# Percentage of gap filled after rise\n",
    "percentage_filled_after_rise = (len(fullfilled_imbalances_after_rise) / len(imbalances_after_rise)) * 100\n",
    "print(f'% of filled gap after rise = {percentage_filled_after_rise} with {len(fullfilled_imbalances_after_rise)} fullfilled imbalances on {len(imbalances_after_rise)} in total')\n",
    "\n"
   ]
  },
  {
   "cell_type": "code",
   "execution_count": null,
   "metadata": {},
   "outputs": [],
   "source": [
    "\n",
    "for imb in unfilled_imbalances_after_rise[-10:] : \n",
    "    print('fullfilled =',imb.is_full_filled, ',imbalance that started on', convert_ts_to_datetime(imb.timestamp), 'at an open price =', imb.open_price, 'at on close_price =', imb.close_price, 'with a delta =', round(imb.delta_to_be_filled_in, 2))"
   ]
  },
  {
   "cell_type": "code",
   "execution_count": null,
   "metadata": {},
   "outputs": [],
   "source": [
    "# Affiche les imbalances non comblés sur le graphique\n",
    "unfilled_imbalances = []\n",
    "unfilled_imbalances.extend(unfilled_imbalances_after_fall)\n",
    "unfilled_imbalances.extend(unfilled_imbalances_after_rise)\n",
    "\n",
    "sorted_imbalances = sort_imbalances_by_timestamp(unfilled_imbalances)\n",
    "sorted_imbalances[-10:]\n",
    "\n",
    "for imb in sorted_imbalances[-10:]:\n",
    "    print(imb.timestamp, imb.open_price, imb.close_price, round(imb.delta_to_be_filled_in, 2))\n",
    "\n"
   ]
  },
  {
   "cell_type": "code",
   "execution_count": null,
   "metadata": {},
   "outputs": [],
   "source": [
    "# Percentage of gap filled after fall\n",
    "percentage_filled_after_fall = (len(fullfilled_imbalances_after_fall) / len(find_imbalances_after_fall)) * 100\n",
    "print(f'% of filled gap after fall = {percentage_filled_after_fall} with {len(fullfilled_imbalances_after_fall)} fullfilled imbalances on {len(imbalances_after_fall)} in total')\n",
    "\n",
    "# Percentage of gap filled after rise\n",
    "percentage_filled_after_rise = (len(fullfilled_imbalances_after_rise) / len(find_imbalances_after_rise)) * 100\n",
    "print(f'% of filled gap after rise = {percentage_filled_after_rise} with {len(fullfilled_imbalances_after_rise)} fullfilled imbalances on {len(imbalances_after_rise)} in total')\n",
    "\n",
    "# Percentage of gap filled in both directions\n",
    "total_imbalances = (len(fullfilled_imbalances_after_fall) + len(fullfilled_imbalances_after_rise))\n",
    "percentage_filled = (len(fullfilled_imbalances) / len(total_imbalances)) * 100\n",
    "print(f'% of filled gap = {percentage_filled} with {len(total_imbalances)} fullfilled imbalances on {len(fullfilled_imbalances)} in total')\n"
   ]
  }
 ],
 "metadata": {
  "kernelspec": {
   "display_name": "Python 3",
   "language": "python",
   "name": "python3"
  },
  "language_info": {
   "codemirror_mode": {
    "name": "ipython",
    "version": 3
   },
   "file_extension": ".py",
   "mimetype": "text/x-python",
   "name": "python",
   "nbconvert_exporter": "python",
   "pygments_lexer": "ipython3",
   "version": "3.10.11"
  }
 },
 "nbformat": 4,
 "nbformat_minor": 2
}
