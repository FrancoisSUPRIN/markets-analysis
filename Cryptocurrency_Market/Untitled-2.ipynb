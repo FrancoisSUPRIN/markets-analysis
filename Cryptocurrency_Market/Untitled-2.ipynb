{
 "cells": [
  {
   "cell_type": "code",
   "execution_count": 1,
   "metadata": {},
   "outputs": [
    {
     "name": "stdout",
     "output_type": "stream",
     "text": [
      "Requirement already satisfied: mplfinance in c:\\users\\supri\\appdata\\local\\packages\\pythonsoftwarefoundation.python.3.10_qbz5n2kfra8p0\\localcache\\local-packages\\python310\\site-packages (0.12.10b0)\n",
      "Requirement already satisfied: matplotlib in c:\\users\\supri\\appdata\\local\\packages\\pythonsoftwarefoundation.python.3.10_qbz5n2kfra8p0\\localcache\\local-packages\\python310\\site-packages (from mplfinance) (3.8.4)\n",
      "Requirement already satisfied: pandas in c:\\users\\supri\\appdata\\local\\packages\\pythonsoftwarefoundation.python.3.10_qbz5n2kfra8p0\\localcache\\local-packages\\python310\\site-packages (from mplfinance) (1.5.2)\n",
      "Requirement already satisfied: contourpy>=1.0.1 in c:\\users\\supri\\appdata\\local\\packages\\pythonsoftwarefoundation.python.3.10_qbz5n2kfra8p0\\localcache\\local-packages\\python310\\site-packages (from matplotlib->mplfinance) (1.2.1)\n",
      "Requirement already satisfied: cycler>=0.10 in c:\\users\\supri\\appdata\\local\\packages\\pythonsoftwarefoundation.python.3.10_qbz5n2kfra8p0\\localcache\\local-packages\\python310\\site-packages (from matplotlib->mplfinance) (0.12.1)\n",
      "Requirement already satisfied: fonttools>=4.22.0 in c:\\users\\supri\\appdata\\local\\packages\\pythonsoftwarefoundation.python.3.10_qbz5n2kfra8p0\\localcache\\local-packages\\python310\\site-packages (from matplotlib->mplfinance) (4.51.0)\n",
      "Requirement already satisfied: kiwisolver>=1.3.1 in c:\\users\\supri\\appdata\\local\\packages\\pythonsoftwarefoundation.python.3.10_qbz5n2kfra8p0\\localcache\\local-packages\\python310\\site-packages (from matplotlib->mplfinance) (1.4.5)\n",
      "Requirement already satisfied: numpy>=1.21 in c:\\users\\supri\\appdata\\local\\packages\\pythonsoftwarefoundation.python.3.10_qbz5n2kfra8p0\\localcache\\local-packages\\python310\\site-packages (from matplotlib->mplfinance) (1.23.5)\n",
      "Requirement already satisfied: packaging>=20.0 in c:\\users\\supri\\appdata\\local\\packages\\pythonsoftwarefoundation.python.3.10_qbz5n2kfra8p0\\localcache\\local-packages\\python310\\site-packages (from matplotlib->mplfinance) (21.3)\n",
      "Requirement already satisfied: pillow>=8 in c:\\users\\supri\\appdata\\local\\packages\\pythonsoftwarefoundation.python.3.10_qbz5n2kfra8p0\\localcache\\local-packages\\python310\\site-packages (from matplotlib->mplfinance) (9.4.0)\n",
      "Requirement already satisfied: pyparsing>=2.3.1 in c:\\users\\supri\\appdata\\local\\packages\\pythonsoftwarefoundation.python.3.10_qbz5n2kfra8p0\\localcache\\local-packages\\python310\\site-packages (from matplotlib->mplfinance) (3.0.9)\n",
      "Requirement already satisfied: python-dateutil>=2.7 in c:\\users\\supri\\appdata\\local\\packages\\pythonsoftwarefoundation.python.3.10_qbz5n2kfra8p0\\localcache\\local-packages\\python310\\site-packages (from matplotlib->mplfinance) (2.8.2)\n",
      "Requirement already satisfied: pytz>=2020.1 in c:\\users\\supri\\appdata\\local\\packages\\pythonsoftwarefoundation.python.3.10_qbz5n2kfra8p0\\localcache\\local-packages\\python310\\site-packages (from pandas->mplfinance) (2022.6)\n",
      "Requirement already satisfied: six>=1.5 in c:\\users\\supri\\appdata\\local\\packages\\pythonsoftwarefoundation.python.3.10_qbz5n2kfra8p0\\localcache\\local-packages\\python310\\site-packages (from python-dateutil>=2.7->matplotlib->mplfinance) (1.16.0)\n"
     ]
    }
   ],
   "source": [
    "!pip install mplfinance\n",
    "from market_imbalance import MarketImbalance\n",
    "\n",
    "\n",
    "def find_imbalances_after_fall(historical_candles):\n",
    "    imbalances_after_fall = []\n",
    "    for index in range(len(historical_candles)):\n",
    "        if index == 0 or index == len(historical_candles) - 1:\n",
    "            continue\n",
    "        prev_candle = historical_candles[index - 1]\n",
    "        current_candle = historical_candles[index]\n",
    "        next_candle = historical_candles[index + 1]\n",
    "        if prev_candle.low_price > next_candle.high_price:\n",
    "            delta_to_be_filled_in = prev_candle.low_price - next_candle.high_price\n",
    "            \n",
    "            imbalance = MarketImbalance(\n",
    "                imbalance_type=\"imbalance_after_fall\",\n",
    "                timestamp=current_candle.timestamp,\n",
    "                open_price=next_candle.high_price,\n",
    "                close_price=prev_candle.low_price,\n",
    "                delta_to_be_filled_in=delta_to_be_filled_in,\n",
    "                is_full_filled=False,\n",
    "                was_fullfilled_at=None,\n",
    "                time_to_be_fullfilled=None,\n",
    "                is_partially_filled=False,\n",
    "                remaining_delta_open_price=None,\n",
    "                remaining_delta_to_be_filled_in=None,\n",
    "                candles_of_identification=(prev_candle, current_candle, next_candle),\n",
    "                candles_of_fullfilling=None,\n",
    "                candles_of_partfilling=None\n",
    "            )\n",
    "            imbalances_after_fall.append(imbalance)\n",
    "    return imbalances_after_fall\n",
    "\n",
    "def find_imbalances_after_rise(historical_candles):\n",
    "    imbalances_after_rise = []\n",
    "    for index in range(len(historical_candles)):\n",
    "        if index == 0 or index == len(historical_candles) - 1:\n",
    "            continue\n",
    "        prev_candle = historical_candles[index - 1]\n",
    "        current_candle = historical_candles[index]\n",
    "        next_candle = historical_candles[index + 1]\n",
    "        if prev_candle.high_price < next_candle.low_price:\n",
    "            delta_to_be_filled_in = next_candle.low_price - prev_candle.high_price\n",
    "            \n",
    "            imbalance = MarketImbalance(\n",
    "                imbalance_type=\"imbalance_after_rise\",\n",
    "                timestamp=current_candle.timestamp,\n",
    "                open_price=next_candle.low_price,\n",
    "                close_price=prev_candle.high_price,\n",
    "                delta_to_be_filled_in=delta_to_be_filled_in,\n",
    "                is_full_filled=False,\n",
    "                was_fullfilled_at=None,\n",
    "                time_to_be_fullfilled=None,\n",
    "                is_partially_filled=False,\n",
    "                remaining_delta_open_price=None,\n",
    "                remaining_delta_to_be_filled_in=None,\n",
    "                candles_of_identification=(prev_candle, current_candle, next_candle),\n",
    "                candles_of_fullfilling=None,\n",
    "                candles_of_partfilling=None\n",
    "            )\n",
    "            imbalances_after_rise.append(imbalance)\n",
    "    return imbalances_after_rise\n",
    "\n",
    "def get_unfilled_imbalances(imbalances):\n",
    "    unfilled_imbalances = [imbalance for imbalance in imbalances if not imbalance.is_full_filled]\n",
    "    return unfilled_imbalances\n"
   ]
  },
  {
   "cell_type": "code",
   "execution_count": 2,
   "metadata": {},
   "outputs": [
    {
     "data": {
      "text/html": [
       "<div>\n",
       "<style scoped>\n",
       "    .dataframe tbody tr th:only-of-type {\n",
       "        vertical-align: middle;\n",
       "    }\n",
       "\n",
       "    .dataframe tbody tr th {\n",
       "        vertical-align: top;\n",
       "    }\n",
       "\n",
       "    .dataframe thead th {\n",
       "        text-align: right;\n",
       "    }\n",
       "</style>\n",
       "<table border=\"1\" class=\"dataframe\">\n",
       "  <thead>\n",
       "    <tr style=\"text-align: right;\">\n",
       "      <th></th>\n",
       "      <th>open</th>\n",
       "      <th>high</th>\n",
       "      <th>low</th>\n",
       "      <th>close</th>\n",
       "      <th>volume</th>\n",
       "      <th>close_time</th>\n",
       "      <th>quote_asset_volume</th>\n",
       "      <th>number_of_trades</th>\n",
       "      <th>taker_buy_base_asset_volume</th>\n",
       "      <th>taker_buy_quote_asset_volume</th>\n",
       "      <th>ignore</th>\n",
       "    </tr>\n",
       "    <tr>\n",
       "      <th>timestamp</th>\n",
       "      <th></th>\n",
       "      <th></th>\n",
       "      <th></th>\n",
       "      <th></th>\n",
       "      <th></th>\n",
       "      <th></th>\n",
       "      <th></th>\n",
       "      <th></th>\n",
       "      <th></th>\n",
       "      <th></th>\n",
       "      <th></th>\n",
       "    </tr>\n",
       "  </thead>\n",
       "  <tbody>\n",
       "    <tr>\n",
       "      <th>2024-04-03 00:00:00</th>\n",
       "      <td>65463.99</td>\n",
       "      <td>65610.00</td>\n",
       "      <td>64493.07</td>\n",
       "      <td>65387.99</td>\n",
       "      <td>4115.32826</td>\n",
       "      <td>2024-04-03 00:59:59.999</td>\n",
       "      <td>2.680072e+08</td>\n",
       "      <td>139236</td>\n",
       "      <td>1875.25183</td>\n",
       "      <td>1.221588e+08</td>\n",
       "      <td>0.0</td>\n",
       "    </tr>\n",
       "    <tr>\n",
       "      <th>2024-04-03 01:00:00</th>\n",
       "      <td>65388.00</td>\n",
       "      <td>65930.51</td>\n",
       "      <td>65090.00</td>\n",
       "      <td>65792.43</td>\n",
       "      <td>2368.51560</td>\n",
       "      <td>2024-04-03 01:59:59.999</td>\n",
       "      <td>1.550170e+08</td>\n",
       "      <td>104364</td>\n",
       "      <td>1151.14422</td>\n",
       "      <td>7.535924e+07</td>\n",
       "      <td>0.0</td>\n",
       "    </tr>\n",
       "    <tr>\n",
       "      <th>2024-04-03 02:00:00</th>\n",
       "      <td>65792.42</td>\n",
       "      <td>66052.00</td>\n",
       "      <td>65683.74</td>\n",
       "      <td>65906.49</td>\n",
       "      <td>1601.22687</td>\n",
       "      <td>2024-04-03 02:59:59.999</td>\n",
       "      <td>1.054656e+08</td>\n",
       "      <td>84772</td>\n",
       "      <td>840.19974</td>\n",
       "      <td>5.534558e+07</td>\n",
       "      <td>0.0</td>\n",
       "    </tr>\n",
       "    <tr>\n",
       "      <th>2024-04-03 03:00:00</th>\n",
       "      <td>65906.49</td>\n",
       "      <td>66288.88</td>\n",
       "      <td>65764.00</td>\n",
       "      <td>66225.79</td>\n",
       "      <td>1266.05890</td>\n",
       "      <td>2024-04-03 03:59:59.999</td>\n",
       "      <td>8.354729e+07</td>\n",
       "      <td>69226</td>\n",
       "      <td>743.92623</td>\n",
       "      <td>4.909171e+07</td>\n",
       "      <td>0.0</td>\n",
       "    </tr>\n",
       "    <tr>\n",
       "      <th>2024-04-03 04:00:00</th>\n",
       "      <td>66225.79</td>\n",
       "      <td>66478.59</td>\n",
       "      <td>66120.00</td>\n",
       "      <td>66320.41</td>\n",
       "      <td>1350.05763</td>\n",
       "      <td>2024-04-03 04:59:59.999</td>\n",
       "      <td>8.949617e+07</td>\n",
       "      <td>68930</td>\n",
       "      <td>747.83740</td>\n",
       "      <td>4.957627e+07</td>\n",
       "      <td>0.0</td>\n",
       "    </tr>\n",
       "  </tbody>\n",
       "</table>\n",
       "</div>"
      ],
      "text/plain": [
       "                         open      high       low     close      volume  \\\n",
       "timestamp                                                                 \n",
       "2024-04-03 00:00:00  65463.99  65610.00  64493.07  65387.99  4115.32826   \n",
       "2024-04-03 01:00:00  65388.00  65930.51  65090.00  65792.43  2368.51560   \n",
       "2024-04-03 02:00:00  65792.42  66052.00  65683.74  65906.49  1601.22687   \n",
       "2024-04-03 03:00:00  65906.49  66288.88  65764.00  66225.79  1266.05890   \n",
       "2024-04-03 04:00:00  66225.79  66478.59  66120.00  66320.41  1350.05763   \n",
       "\n",
       "                                 close_time  quote_asset_volume  \\\n",
       "timestamp                                                         \n",
       "2024-04-03 00:00:00 2024-04-03 00:59:59.999        2.680072e+08   \n",
       "2024-04-03 01:00:00 2024-04-03 01:59:59.999        1.550170e+08   \n",
       "2024-04-03 02:00:00 2024-04-03 02:59:59.999        1.054656e+08   \n",
       "2024-04-03 03:00:00 2024-04-03 03:59:59.999        8.354729e+07   \n",
       "2024-04-03 04:00:00 2024-04-03 04:59:59.999        8.949617e+07   \n",
       "\n",
       "                     number_of_trades  taker_buy_base_asset_volume  \\\n",
       "timestamp                                                            \n",
       "2024-04-03 00:00:00            139236                   1875.25183   \n",
       "2024-04-03 01:00:00            104364                   1151.14422   \n",
       "2024-04-03 02:00:00             84772                    840.19974   \n",
       "2024-04-03 03:00:00             69226                    743.92623   \n",
       "2024-04-03 04:00:00             68930                    747.83740   \n",
       "\n",
       "                     taker_buy_quote_asset_volume  ignore  \n",
       "timestamp                                                  \n",
       "2024-04-03 00:00:00                  1.221588e+08     0.0  \n",
       "2024-04-03 01:00:00                  7.535924e+07     0.0  \n",
       "2024-04-03 02:00:00                  5.534558e+07     0.0  \n",
       "2024-04-03 03:00:00                  4.909171e+07     0.0  \n",
       "2024-04-03 04:00:00                  4.957627e+07     0.0  "
      ]
     },
     "execution_count": 2,
     "metadata": {},
     "output_type": "execute_result"
    }
   ],
   "source": [
    "# !pip install python-binance\n",
    "import os\n",
    "from interact_with_binance import fetch_ohlcv, fetch_ohlcv_as_df\n",
    "from market_candles import MarketCandle\n",
    "from binance.client import Client\n",
    "from convert_ts_to_datetime import convert_ts_to_datetime\n",
    "\n",
    "\n",
    "api_key = os.environ.get('BINANCE_API_KEY')\n",
    "api_secret = os.environ.get('BINANCE_API_SECRET')\n",
    "client = Client(api_key, api_secret)\n",
    "\n",
    "# Récupère les données de marché en *temps différé* sur Binance\n",
    "interval_value = Client.KLINE_INTERVAL_1HOUR\n",
    "from_date = \"3 avril 2024\"\n",
    "\n",
    "historical_candles = fetch_ohlcv(client, symbol = \"BTCUSDT\", interval=interval_value, from_date=from_date) #\"1 Jan, 2015\"\n",
    "historical_candles_df = fetch_ohlcv_as_df(client, symbol = \"BTCUSDT\", interval=interval_value, from_date=from_date) #\"1 Jan, 2015\"\n",
    "historical_candles_df[0:5]"
   ]
  },
  {
   "cell_type": "code",
   "execution_count": 3,
   "metadata": {},
   "outputs": [],
   "source": [
    "# Récupère les imbalances à partir des infos de marché\n",
    "imbalances_after_fall = find_imbalances_after_fall(historical_candles)\n",
    "imbalances_after_rise = find_imbalances_after_rise(historical_candles)\n",
    "\n",
    "# Identifie uniquement les imbalances qu'il reste à combler\n",
    "unfilled_imbalances_after_fall = get_unfilled_imbalances(imbalances_after_fall)\n",
    "unfilled_imbalances_after_rise = get_unfilled_imbalances(imbalances_after_rise)\n",
    "\n",
    "#for imb in unfilled_imbalances_after_rise[-10:] : \n",
    "    #print('fullfilled =',imb.is_full_filled, ',imbalance that started on', convert_ts_to_datetime(imb.timestamp), 'at an open price =', imb.open_price, 'at on close_price =', imb.close_price, 'with a delta =', round(imb.delta_to_be_filled_in, 2))"
   ]
  },
  {
   "cell_type": "code",
   "execution_count": 4,
   "metadata": {},
   "outputs": [
    {
     "data": {
      "image/png": "[encoded data removed]",
      "text/plain": [
       "<Figure size 800x575 with 2 Axes>"
      ]
     },
     "metadata": {},
     "output_type": "display_data"
    }
   ],
   "source": [
    "import mplfinance as mpf\n",
    "import pandas as pd\n",
    "\n",
    "# Tracer les bougies avec mplfinance\n",
    "mpf.plot(historical_candles_df, type='candle', title='Bougies BTCUSDT', ylabel='Prix')\n",
    "\n"
   ]
  },
  {
   "cell_type": "code",
   "execution_count": 5,
   "metadata": {},
   "outputs": [
    {
     "data": {
      "application/vnd.plotly.v1+json": {
       "config": {
        "plotlyServerURL": "https://plot.ly"
       },
       "data": [
        {
         "close": [
          65387.99,
          65792.43,
          65906.49,
          66225.79,
          66320.41,
          66077.1,
          66350.79,
          66135.99,
          66518.04,
          66484.58,
          66197.62,
          66059.76,
          65899.99,
          65804.01,
          66627.93,
          65836.01,
          66194.5,
          65952.01,
          66003.07,
          65784,
          65712.01,
          65918.71,
          66140,
          65963.28,
          66288,
          66143.99,
          65744.38,
          65620.01,
          65480.41,
          65591.57,
          65768,
          66091.6,
          66220.01,
          66273.37,
          66278.62,
          66353.67,
          66709,
          67242.15,
          67691.97,
          67647.99,
          67807.64,
          68849.18,
          68593.5,
          68500,
          67931.26,
          67787.9,
          67937.05,
          68487.79,
          68606,
          68160,
          67600,
          67863.99,
          67647.99,
          66888.04,
          67140.56,
          66930.74,
          67151.21,
          66805.98,
          67034.65,
          66478,
          66883.99,
          67500,
          68139.39,
          68190.62,
          67953.8,
          67442.49,
          67629.02,
          67412.4,
          67643.48,
          67515.45,
          67628.53,
          67820.62,
          67900.57,
          67689.99,
          67574.59,
          67788.01,
          67735.84,
          68038.74,
          68109.42,
          67992.02,
          68012.14,
          67792,
          67842.17,
          67668.16,
          67738.37,
          67699.99,
          67993.99,
          68104,
          68143.48,
          68287.3,
          68307.28,
          68259.98,
          68390,
          68299.65,
          69056,
          68896,
          68999.99,
          69541.65,
          69300,
          69408.05,
          69304.44,
          69397.76,
          69244.09,
          69364.01,
          69479.99,
          69289.99,
          69328.14,
          69357,
          69335.99,
          69349.93,
          69578.44,
          69543.74,
          70074,
          69798.01,
          69390.01,
          69068.01,
          69309.69,
          69031.3,
          69200,
          69360.39,
          69325.99,
          69437.02,
          69228,
          69458.95,
          69382,
          69701.99,
          69790.29,
          70698.63,
          71968,
          72197.25,
          72323.98,
          72404,
          72180.02,
          71944.31,
          71726,
          71773.98,
          71740.1,
          71699.23,
          71908.61,
          71766,
          71711.99,
          71692.01,
          71916.09,
          71620,
          71419.99,
          71275.46,
          71477.44,
          71285,
          71208.01,
          71056,
          70765.69,
          70383.99,
          70500.01,
          70392.18,
          70566.64,
          70794.85,
          70690,
          69928,
          69358.32,
          69264,
          68601.24,
          68823.99,
          68879.23,
          69000.77,
          69171.19,
          69213.83,
          69325.65,
          69146,
          69138.81,
          69269.75,
          68651.98,
          69150.18,
          69134.33,
          69255.82,
          69369.25,
          69336.28,
          69011.92,
          69139.2,
          68932.01,
          69043,
          67976,
          68259.77,
          68703.05,
          68657.32,
          69500,
          69350.11,
          69314.33,
          70083.99,
          69812.01,
          70017,
          70528,
          70631.08,
          70520.01,
          70553.28,
          70995.66,
          70851.67,
          70604.01,
          70583.99,
          70717.82,
          70735.99,
          71039.39,
          70604,
          70459.99,
          69983.16,
          70858.83,
          70284,
          69600.54,
          70000,
          70011.99,
          70203.99,
          70099.75,
          70459.67,
          70499.62,
          70115.41,
          70151.26,
          70006.23,
          70301.63,
          70280.01,
          70635.93,
          70977.27,
          71115.99,
          70956.32,
          70871.05,
          70764.01,
          70759.99,
          70652,
          70786.4,
          70904.01,
          70534.24,
          69888,
          69270.01,
          69347.3,
          68840.54,
          68140.02,
          66492,
          66843.98,
          67120,
          66960.01,
          67053.33,
          67116.52,
          66913.27,
          65886.63,
          66535.99,
          67160.55,
          67587.62,
          67345.48,
          67476.02,
          67446.52,
          67176,
          67393.85,
          67428.25,
          67360,
          67514.69,
          67552.03,
          67559.56,
          67676,
          67432.37,
          66730.87,
          67156.27,
          64788.01,
          61816.02,
          62928.01,
          64293.46,
          63924.51,
          63672.18,
          63743.11,
          63084.18,
          63437.55,
          63956.99,
          64383.99,
          64649.96,
          64464.3,
          64530.67,
          64077
         ],
         "high": [
          65610,
          65930.51,
          66052,
          66288.88,
          66478.59,
          66363.64,
          66377,
          66483.87,
          66642.36,
          66637.43,
          66519.79,
          66224,
          66220,
          66020.83,
          66903.63,
          66648,
          66550,
          66376,
          66119.68,
          66150,
          65840,
          65935.48,
          66243.05,
          66297.4,
          66354.83,
          66296,
          66152,
          65796.59,
          65699.43,
          65710.58,
          65814.69,
          66290.32,
          66435.02,
          66406.55,
          66468.99,
          66431.34,
          66816.66,
          67500,
          67927.69,
          67808,
          68188,
          68896.1,
          69309.91,
          69086.23,
          68551.99,
          68148.69,
          68051.94,
          68565.54,
          68756.67,
          68615.58,
          68161.82,
          68033.33,
          68028,
          67750.99,
          67179.56,
          67144.55,
          67684.26,
          67151.21,
          67213.84,
          67087.98,
          66888,
          67589.61,
          68566.66,
          68268.14,
          68380,
          67986.83,
          67729.54,
          68096,
          67758.04,
          67838.07,
          67843.55,
          67966.67,
          68065.2,
          67977.73,
          67765.77,
          67882.5,
          67819.13,
          68232.14,
          68162.9,
          68189.33,
          68106.88,
          68120,
          67886.37,
          67904.35,
          67796.69,
          67745.13,
          68109.13,
          68299,
          68174,
          68484.09,
          68379.82,
          68415,
          68395,
          68434.88,
          69101,
          69692,
          69150,
          69655.16,
          69777,
          69510,
          69493.98,
          69464,
          69414.87,
          69482.44,
          69555,
          69493.25,
          69495.15,
          69407.72,
          69415.59,
          69550,
          69664.67,
          69886.03,
          70326.29,
          70112,
          69828,
          69508.71,
          69403.7,
          69413.1,
          69344.4,
          69477.18,
          69432,
          69841.03,
          69437.03,
          69500,
          69500,
          69801,
          69818.04,
          70850,
          72111.99,
          72650,
          72374,
          72647.86,
          72797.99,
          72310.01,
          71985.38,
          71987,
          72021.56,
          71800,
          72104.05,
          71973.6,
          71818.77,
          71900,
          71960,
          72000,
          71758.19,
          71439.8,
          71618.95,
          71641.97,
          71339.79,
          71323.66,
          71265.47,
          70940.9,
          70600,
          70860.65,
          70697.04,
          70905.26,
          70977,
          70920,
          70429.04,
          69360,
          69320,
          68962.43,
          69025.89,
          69174,
          69208.2,
          69250,
          69439.6,
          69332,
          69304.26,
          69269.76,
          69594.15,
          69180,
          69199.99,
          69414.2,
          69479.8,
          69515,
          69336.28,
          69171.75,
          69180,
          69132.61,
          69204.28,
          68313.1,
          68974.58,
          68760.71,
          69536,
          69910.96,
          69411.34,
          70098.89,
          70136,
          70036.81,
          71172.08,
          70799.99,
          70663.21,
          70760,
          71062,
          71027.99,
          70888.35,
          70680,
          70848.76,
          71305.89,
          71256.27,
          71053.61,
          70785.05,
          70596,
          71100,
          70988,
          70350.01,
          70026.25,
          70133.17,
          70446.03,
          70429.32,
          70529.73,
          70746.09,
          70504.99,
          70259.46,
          70196,
          70336.38,
          70367.29,
          70775,
          70996.91,
          71227.46,
          71175.99,
          71012,
          70967.92,
          70893.58,
          70863.51,
          70868,
          70972,
          70975.54,
          70534.24,
          70090.55,
          69718.35,
          69580,
          68960,
          68383.63,
          67335.22,
          67440,
          67128.64,
          67270.53,
          67230.19,
          67142.86,
          66928,
          66593.41,
          67168,
          67929,
          67907.84,
          67511,
          67563.66,
          67455,
          67475,
          67480.2,
          67825.91,
          67679.99,
          67774.2,
          67720,
          67926,
          67752.85,
          67437.56,
          67243.47,
          67241.55,
          64853.9,
          62959.48,
          64615.38,
          65608.09,
          64303.87,
          64085.7,
          63953.75,
          63576.36,
          64176.46,
          64466,
          64872.96,
          64837.07,
          64887.99,
          64721.65
         ],
         "low": [
          64493.07,
          65090,
          65683.74,
          65764,
          66120,
          65920,
          66052,
          66113.31,
          65990,
          66333,
          66020,
          65538.06,
          65729.73,
          65635.01,
          65804,
          65715.67,
          65790.21,
          65829.87,
          65451.62,
          65714.29,
          65531.92,
          65476.63,
          65851.07,
          65950,
          65824,
          66020,
          65454.55,
          65542.03,
          65064.52,
          65384,
          65548.67,
          65661.05,
          66028,
          66172,
          66141.27,
          66108.85,
          66330.56,
          66690,
          67075.7,
          67428.57,
          67526.5,
          67721.41,
          68510.63,
          68334.24,
          67320,
          67495,
          67604.93,
          67889.2,
          68166.66,
          67760.93,
          67435.67,
          67570,
          67450.01,
          66380,
          66770.86,
          66832.5,
          66917.74,
          66383.01,
          66708.01,
          66388,
          65952.56,
          66524.18,
          67314.11,
          67628.2,
          67680,
          67358.93,
          67316,
          67382.6,
          67342,
          67515.44,
          67503.31,
          67628.52,
          67686.23,
          67643.47,
          67447.83,
          67574.59,
          67602,
          67720.17,
          67845.2,
          67940.54,
          67859.53,
          67747.86,
          67714.72,
          67615.22,
          67582.3,
          67527.78,
          67684,
          67896.48,
          67948.83,
          68039.94,
          68163.62,
          68218,
          68166.66,
          68298.82,
          68286.33,
          68800,
          68824,
          68998.57,
          69300,
          69250,
          69053.97,
          69267.07,
          69110.81,
          69213.84,
          69333.72,
          69199.01,
          69236,
          69200,
          69210,
          69285.71,
          69220,
          69360.44,
          69483.9,
          69658.19,
          69234.14,
          68849.77,
          68960.01,
          69031.29,
          68901,
          69188.05,
          69043.24,
          69285.7,
          69126.36,
          69134.99,
          69280,
          69382,
          69632.73,
          69790.28,
          70642,
          71650.32,
          71792.06,
          72218.27,
          72137.48,
          71691.35,
          71245.17,
          71598.45,
          71556.53,
          71300,
          71672.34,
          71564.51,
          71500.37,
          71628.01,
          71599.9,
          71610.01,
          71320.01,
          70833.33,
          71156.77,
          71186.02,
          70917.2,
          70957,
          70560,
          70110,
          69576.61,
          70256.98,
          70234.99,
          70566.63,
          70654.38,
          69921.62,
          68611,
          68535.03,
          68516.15,
          68210,
          68769.79,
          68656.08,
          68962.31,
          68935.64,
          69144.59,
          68888.47,
          69025.97,
          68603.92,
          68466.63,
          68625.61,
          69005.55,
          69121.35,
          69227.62,
          69268.47,
          68800,
          68902.43,
          68629.99,
          68853.83,
          67559.99,
          67518,
          68009.94,
          68264,
          68556,
          69142.81,
          69071,
          69219.14,
          69740,
          69581.03,
          70017,
          70488.38,
          70285.13,
          70469.12,
          70500,
          70773.58,
          70378.11,
          70444,
          70564,
          70717.81,
          70617.25,
          70596.43,
          70421.56,
          69881.31,
          69867.76,
          69669.75,
          69584,
          69567.21,
          69574.88,
          70000,
          69951.18,
          70008,
          70383.8,
          70000,
          70033.52,
          69804.87,
          70002.22,
          70113.6,
          70208.73,
          70635.92,
          70812.56,
          70887.72,
          70713.7,
          70566.02,
          70582.52,
          70509.58,
          70601.23,
          70760.01,
          70323.96,
          69631.06,
          69236.95,
          69248.33,
          68679.61,
          67444,
          65086.86,
          66329.19,
          66700,
          66680.84,
          66828.01,
          66812,
          66737.64,
          65731.27,
          65871.49,
          66483.87,
          67012.67,
          67300.3,
          67258.63,
          67120.87,
          67090.83,
          67136.14,
          67311.77,
          67302.93,
          67169.97,
          67450.54,
          67369.67,
          67437.8,
          67224,
          66500,
          66444,
          63750.01,
          60660.57,
          61693,
          62118.56,
          63651.15,
          62888,
          63248.7,
          63016.23,
          62134,
          63394,
          63921,
          64107.09,
          64243.65,
          64372.04,
          63908.31
         ],
         "open": [
          65463.99,
          65388,
          65792.42,
          65906.49,
          66225.79,
          66320.41,
          66077.11,
          66350.79,
          66135.98,
          66518.05,
          66484.57,
          66197.63,
          66059.75,
          65900,
          65804.01,
          66627.93,
          65836.02,
          66194.51,
          65952,
          66003.08,
          65784.01,
          65712,
          65918.71,
          66140.01,
          65963.27,
          66288,
          66143.99,
          65744.38,
          65620,
          65480.41,
          65591.57,
          65768.01,
          66091.59,
          66220.02,
          66273.38,
          66278.61,
          66353.68,
          66709,
          67242.14,
          67691.98,
          67648,
          67807.65,
          68849.18,
          68593.5,
          68500,
          67931.26,
          67787.91,
          67937.06,
          68487.8,
          68606.01,
          68160,
          67599.99,
          67864,
          67648,
          66888.03,
          67140.56,
          66930.75,
          67151.2,
          66805.99,
          67034.66,
          66478,
          66883.99,
          67500.01,
          68139.39,
          68190.62,
          67953.79,
          67442.49,
          67629.01,
          67412.41,
          67643.48,
          67515.44,
          67628.53,
          67820.63,
          67900.56,
          67689.99,
          67574.6,
          67788,
          67735.84,
          68038.75,
          68109.43,
          67992.02,
          68012.15,
          67792,
          67842.18,
          67668.16,
          67738.36,
          67700,
          67994,
          68104.01,
          68143.48,
          68287.3,
          68307.28,
          68259.99,
          68390,
          68299.65,
          69056,
          68896,
          68999.99,
          69541.65,
          69300.01,
          69408.04,
          69304.44,
          69397.76,
          69244.08,
          69364,
          69479.99,
          69290,
          69328.14,
          69357,
          69336,
          69349.93,
          69578.44,
          69543.73,
          70074.01,
          69798.02,
          69390.01,
          69068.01,
          69309.7,
          69031.3,
          69200,
          69360.38,
          69326,
          69437.03,
          69228,
          69458.95,
          69382.01,
          69702,
          69790.29,
          70698.64,
          71968,
          72197.26,
          72323.99,
          72404,
          72180.01,
          71944.31,
          71725.99,
          71773.98,
          71740.1,
          71699.23,
          71908.6,
          71766,
          71711.98,
          71692.01,
          71916.08,
          71620,
          71420,
          71275.45,
          71477.44,
          71285,
          71208.02,
          71055.99,
          70765.7,
          70383.98,
          70500.01,
          70392.18,
          70566.63,
          70794.84,
          70690,
          69928,
          69358.32,
          69264,
          68601.25,
          68823.99,
          68879.22,
          69000.78,
          69171.18,
          69213.83,
          69325.64,
          69146,
          69138.81,
          69269.75,
          68651.98,
          69150.18,
          69134.34,
          69255.82,
          69369.25,
          69336.27,
          69011.92,
          69139.19,
          68932.01,
          69043,
          67975.99,
          68259.77,
          68703.04,
          68657.31,
          69499.99,
          69350.1,
          69314.33,
          70084,
          69812.01,
          70017.01,
          70528,
          70631.08,
          70520,
          70553.28,
          70995.66,
          70851.66,
          70604.01,
          70583.99,
          70717.81,
          70736,
          71039.4,
          70604,
          70460,
          69983.16,
          70858.82,
          70284.01,
          69600.55,
          70000,
          70011.99,
          70203.99,
          70099.75,
          70459.67,
          70499.63,
          70115.41,
          70151.26,
          70006.22,
          70301.63,
          70280.01,
          70635.92,
          70977.27,
          71116,
          70956.32,
          70871.04,
          70764,
          70759.99,
          70652,
          70786.41,
          70904,
          70534.23,
          69888,
          69270.02,
          69347.3,
          68840.54,
          68140.01,
          66492,
          66843.98,
          67119.99,
          66960,
          67053.33,
          67116.52,
          66913.27,
          65886.64,
          66536,
          67160.55,
          67587.63,
          67345.48,
          67476.01,
          67446.53,
          67175.99,
          67393.84,
          67428.25,
          67360.01,
          67514.7,
          67552.02,
          67559.57,
          67675.99,
          67432.38,
          66730.86,
          67156.27,
          64788.01,
          61816.01,
          62928,
          64293.47,
          63924.52,
          63672.19,
          63743.1,
          63084.18,
          63437.55,
          63957,
          64384,
          64649.97,
          64464.3,
          64530.67
         ],
         "type": "candlestick",
         "x": [
          "2024-04-03T00:00:00",
          "2024-04-03T01:00:00",
          "2024-04-03T02:00:00",
          "2024-04-03T03:00:00",
          "2024-04-03T04:00:00",
          "2024-04-03T05:00:00",
          "2024-04-03T06:00:00",
          "2024-04-03T07:00:00",
          "2024-04-03T08:00:00",
          "2024-04-03T09:00:00",
          "2024-04-03T10:00:00",
          "2024-04-03T11:00:00",
          "2024-04-03T12:00:00",
          "2024-04-03T13:00:00",
          "2024-04-03T14:00:00",
          "2024-04-03T15:00:00",
          "2024-04-03T16:00:00",
          "2024-04-03T17:00:00",
          "2024-04-03T18:00:00",
          "2024-04-03T19:00:00",
          "2024-04-03T20:00:00",
          "2024-04-03T21:00:00",
          "2024-04-03T22:00:00",
          "2024-04-03T23:00:00",
          "2024-04-04T00:00:00",
          "2024-04-04T01:00:00",
          "2024-04-04T02:00:00",
          "2024-04-04T03:00:00",
          "2024-04-04T04:00:00",
          "2024-04-04T05:00:00",
          "2024-04-04T06:00:00",
          "2024-04-04T07:00:00",
          "2024-04-04T08:00:00",
          "2024-04-04T09:00:00",
          "2024-04-04T10:00:00",
          "2024-04-04T11:00:00",
          "2024-04-04T12:00:00",
          "2024-04-04T13:00:00",
          "2024-04-04T14:00:00",
          "2024-04-04T15:00:00",
          "2024-04-04T16:00:00",
          "2024-04-04T17:00:00",
          "2024-04-04T18:00:00",
          "2024-04-04T19:00:00",
          "2024-04-04T20:00:00",
          "2024-04-04T21:00:00",
          "2024-04-04T22:00:00",
          "2024-04-04T23:00:00",
          "2024-04-05T00:00:00",
          "2024-04-05T01:00:00",
          "2024-04-05T02:00:00",
          "2024-04-05T03:00:00",
          "2024-04-05T04:00:00",
          "2024-04-05T05:00:00",
          "2024-04-05T06:00:00",
          "2024-04-05T07:00:00",
          "2024-04-05T08:00:00",
          "2024-04-05T09:00:00",
          "2024-04-05T10:00:00",
          "2024-04-05T11:00:00",
          "2024-04-05T12:00:00",
          "2024-04-05T13:00:00",
          "2024-04-05T14:00:00",
          "2024-04-05T15:00:00",
          "2024-04-05T16:00:00",
          "2024-04-05T17:00:00",
          "2024-04-05T18:00:00",
          "2024-04-05T19:00:00",
          "2024-04-05T20:00:00",
          "2024-04-05T21:00:00",
          "2024-04-05T22:00:00",
          "2024-04-05T23:00:00",
          "2024-04-06T00:00:00",
          "2024-04-06T01:00:00",
          "2024-04-06T02:00:00",
          "2024-04-06T03:00:00",
          "2024-04-06T04:00:00",
          "2024-04-06T05:00:00",
          "2024-04-06T06:00:00",
          "2024-04-06T07:00:00",
          "2024-04-06T08:00:00",
          "2024-04-06T09:00:00",
          "2024-04-06T10:00:00",
          "2024-04-06T11:00:00",
          "2024-04-06T12:00:00",
          "2024-04-06T13:00:00",
          "2024-04-06T14:00:00",
          "2024-04-06T15:00:00",
          "2024-04-06T16:00:00",
          "2024-04-06T17:00:00",
          "2024-04-06T18:00:00",
          "2024-04-06T19:00:00",
          "2024-04-06T20:00:00",
          "2024-04-06T21:00:00",
          "2024-04-06T22:00:00",
          "2024-04-06T23:00:00",
          "2024-04-07T00:00:00",
          "2024-04-07T01:00:00",
          "2024-04-07T02:00:00",
          "2024-04-07T03:00:00",
          "2024-04-07T04:00:00",
          "2024-04-07T05:00:00",
          "2024-04-07T06:00:00",
          "2024-04-07T07:00:00",
          "2024-04-07T08:00:00",
          "2024-04-07T09:00:00",
          "2024-04-07T10:00:00",
          "2024-04-07T11:00:00",
          "2024-04-07T12:00:00",
          "2024-04-07T13:00:00",
          "2024-04-07T14:00:00",
          "2024-04-07T15:00:00",
          "2024-04-07T16:00:00",
          "2024-04-07T17:00:00",
          "2024-04-07T18:00:00",
          "2024-04-07T19:00:00",
          "2024-04-07T20:00:00",
          "2024-04-07T21:00:00",
          "2024-04-07T22:00:00",
          "2024-04-07T23:00:00",
          "2024-04-08T00:00:00",
          "2024-04-08T01:00:00",
          "2024-04-08T02:00:00",
          "2024-04-08T03:00:00",
          "2024-04-08T04:00:00",
          "2024-04-08T05:00:00",
          "2024-04-08T06:00:00",
          "2024-04-08T07:00:00",
          "2024-04-08T08:00:00",
          "2024-04-08T09:00:00",
          "2024-04-08T10:00:00",
          "2024-04-08T11:00:00",
          "2024-04-08T12:00:00",
          "2024-04-08T13:00:00",
          "2024-04-08T14:00:00",
          "2024-04-08T15:00:00",
          "2024-04-08T16:00:00",
          "2024-04-08T17:00:00",
          "2024-04-08T18:00:00",
          "2024-04-08T19:00:00",
          "2024-04-08T20:00:00",
          "2024-04-08T21:00:00",
          "2024-04-08T22:00:00",
          "2024-04-08T23:00:00",
          "2024-04-09T00:00:00",
          "2024-04-09T01:00:00",
          "2024-04-09T02:00:00",
          "2024-04-09T03:00:00",
          "2024-04-09T04:00:00",
          "2024-04-09T05:00:00",
          "2024-04-09T06:00:00",
          "2024-04-09T07:00:00",
          "2024-04-09T08:00:00",
          "2024-04-09T09:00:00",
          "2024-04-09T10:00:00",
          "2024-04-09T11:00:00",
          "2024-04-09T12:00:00",
          "2024-04-09T13:00:00",
          "2024-04-09T14:00:00",
          "2024-04-09T15:00:00",
          "2024-04-09T16:00:00",
          "2024-04-09T17:00:00",
          "2024-04-09T18:00:00",
          "2024-04-09T19:00:00",
          "2024-04-09T20:00:00",
          "2024-04-09T21:00:00",
          "2024-04-09T22:00:00",
          "2024-04-09T23:00:00",
          "2024-04-10T00:00:00",
          "2024-04-10T01:00:00",
          "2024-04-10T02:00:00",
          "2024-04-10T03:00:00",
          "2024-04-10T04:00:00",
          "2024-04-10T05:00:00",
          "2024-04-10T06:00:00",
          "2024-04-10T07:00:00",
          "2024-04-10T08:00:00",
          "2024-04-10T09:00:00",
          "2024-04-10T10:00:00",
          "2024-04-10T11:00:00",
          "2024-04-10T12:00:00",
          "2024-04-10T13:00:00",
          "2024-04-10T14:00:00",
          "2024-04-10T15:00:00",
          "2024-04-10T16:00:00",
          "2024-04-10T17:00:00",
          "2024-04-10T18:00:00",
          "2024-04-10T19:00:00",
          "2024-04-10T20:00:00",
          "2024-04-10T21:00:00",
          "2024-04-10T22:00:00",
          "2024-04-10T23:00:00",
          "2024-04-11T00:00:00",
          "2024-04-11T01:00:00",
          "2024-04-11T02:00:00",
          "2024-04-11T03:00:00",
          "2024-04-11T04:00:00",
          "2024-04-11T05:00:00",
          "2024-04-11T06:00:00",
          "2024-04-11T07:00:00",
          "2024-04-11T08:00:00",
          "2024-04-11T09:00:00",
          "2024-04-11T10:00:00",
          "2024-04-11T11:00:00",
          "2024-04-11T12:00:00",
          "2024-04-11T13:00:00",
          "2024-04-11T14:00:00",
          "2024-04-11T15:00:00",
          "2024-04-11T16:00:00",
          "2024-04-11T17:00:00",
          "2024-04-11T18:00:00",
          "2024-04-11T19:00:00",
          "2024-04-11T20:00:00",
          "2024-04-11T21:00:00",
          "2024-04-11T22:00:00",
          "2024-04-11T23:00:00",
          "2024-04-12T00:00:00",
          "2024-04-12T01:00:00",
          "2024-04-12T02:00:00",
          "2024-04-12T03:00:00",
          "2024-04-12T04:00:00",
          "2024-04-12T05:00:00",
          "2024-04-12T06:00:00",
          "2024-04-12T07:00:00",
          "2024-04-12T08:00:00",
          "2024-04-12T09:00:00",
          "2024-04-12T10:00:00",
          "2024-04-12T11:00:00",
          "2024-04-12T12:00:00",
          "2024-04-12T13:00:00",
          "2024-04-12T14:00:00",
          "2024-04-12T15:00:00",
          "2024-04-12T16:00:00",
          "2024-04-12T17:00:00",
          "2024-04-12T18:00:00",
          "2024-04-12T19:00:00",
          "2024-04-12T20:00:00",
          "2024-04-12T21:00:00",
          "2024-04-12T22:00:00",
          "2024-04-12T23:00:00",
          "2024-04-13T00:00:00",
          "2024-04-13T01:00:00",
          "2024-04-13T02:00:00",
          "2024-04-13T03:00:00",
          "2024-04-13T04:00:00",
          "2024-04-13T05:00:00",
          "2024-04-13T06:00:00",
          "2024-04-13T07:00:00",
          "2024-04-13T08:00:00",
          "2024-04-13T09:00:00",
          "2024-04-13T10:00:00",
          "2024-04-13T11:00:00",
          "2024-04-13T12:00:00",
          "2024-04-13T13:00:00",
          "2024-04-13T14:00:00",
          "2024-04-13T15:00:00",
          "2024-04-13T16:00:00",
          "2024-04-13T17:00:00",
          "2024-04-13T18:00:00",
          "2024-04-13T19:00:00",
          "2024-04-13T20:00:00",
          "2024-04-13T21:00:00",
          "2024-04-13T22:00:00",
          "2024-04-13T23:00:00",
          "2024-04-14T00:00:00",
          "2024-04-14T01:00:00",
          "2024-04-14T02:00:00",
          "2024-04-14T03:00:00",
          "2024-04-14T04:00:00",
          "2024-04-14T05:00:00",
          "2024-04-14T06:00:00",
          "2024-04-14T07:00:00",
          "2024-04-14T08:00:00",
          "2024-04-14T09:00:00"
         ]
        }
       ],
       "layout": {
        "height": 1000,
        "template": {
         "data": {
          "bar": [
           {
            "error_x": {
             "color": "#2a3f5f"
            },
            "error_y": {
             "color": "#2a3f5f"
            },
            "marker": {
             "line": {
              "color": "#E5ECF6",
              "width": 0.5
             },
             "pattern": {
              "fillmode": "overlay",
              "size": 10,
              "solidity": 0.2
             }
            },
            "type": "bar"
           }
          ],
          "barpolar": [
           {
            "marker": {
             "line": {
              "color": "#E5ECF6",
              "width": 0.5
             },
             "pattern": {
              "fillmode": "overlay",
              "size": 10,
              "solidity": 0.2
             }
            },
            "type": "barpolar"
           }
          ],
          "carpet": [
           {
            "aaxis": {
             "endlinecolor": "#2a3f5f",
             "gridcolor": "white",
             "linecolor": "white",
             "minorgridcolor": "white",
             "startlinecolor": "#2a3f5f"
            },
            "baxis": {
             "endlinecolor": "#2a3f5f",
             "gridcolor": "white",
             "linecolor": "white",
             "minorgridcolor": "white",
             "startlinecolor": "#2a3f5f"
            },
            "type": "carpet"
           }
          ],
          "choropleth": [
           {
            "colorbar": {
             "outlinewidth": 0,
             "ticks": ""
            },
            "type": "choropleth"
           }
          ],
          "contour": [
           {
            "colorbar": {
             "outlinewidth": 0,
             "ticks": ""
            },
            "colorscale": [
             [
              0,
              "#0d0887"
             ],
             [
              0.1111111111111111,
              "#46039f"
             ],
             [
              0.2222222222222222,
              "#7201a8"
             ],
             [
              0.3333333333333333,
              "#9c179e"
             ],
             [
              0.4444444444444444,
              "#bd3786"
             ],
             [
              0.5555555555555556,
              "#d8576b"
             ],
             [
              0.6666666666666666,
              "#ed7953"
             ],
             [
              0.7777777777777778,
              "#fb9f3a"
             ],
             [
              0.8888888888888888,
              "#fdca26"
             ],
             [
              1,
              "#f0f921"
             ]
            ],
            "type": "contour"
           }
          ],
          "contourcarpet": [
           {
            "colorbar": {
             "outlinewidth": 0,
             "ticks": ""
            },
            "type": "contourcarpet"
           }
          ],
          "heatmap": [
           {
            "colorbar": {
             "outlinewidth": 0,
             "ticks": ""
            },
            "colorscale": [
             [
              0,
              "#0d0887"
             ],
             [
              0.1111111111111111,
              "#46039f"
             ],
             [
              0.2222222222222222,
              "#7201a8"
             ],
             [
              0.3333333333333333,
              "#9c179e"
             ],
             [
              0.4444444444444444,
              "#bd3786"
             ],
             [
              0.5555555555555556,
              "#d8576b"
             ],
             [
              0.6666666666666666,
              "#ed7953"
             ],
             [
              0.7777777777777778,
              "#fb9f3a"
             ],
             [
              0.8888888888888888,
              "#fdca26"
             ],
             [
              1,
              "#f0f921"
             ]
            ],
            "type": "heatmap"
           }
          ],
          "heatmapgl": [
           {
            "colorbar": {
             "outlinewidth": 0,
             "ticks": ""
            },
            "colorscale": [
             [
              0,
              "#0d0887"
             ],
             [
              0.1111111111111111,
              "#46039f"
             ],
             [
              0.2222222222222222,
              "#7201a8"
             ],
             [
              0.3333333333333333,
              "#9c179e"
             ],
             [
              0.4444444444444444,
              "#bd3786"
             ],
             [
              0.5555555555555556,
              "#d8576b"
             ],
             [
              0.6666666666666666,
              "#ed7953"
             ],
             [
              0.7777777777777778,
              "#fb9f3a"
             ],
             [
              0.8888888888888888,
              "#fdca26"
             ],
             [
              1,
              "#f0f921"
             ]
            ],
            "type": "heatmapgl"
           }
          ],
          "histogram": [
           {
            "marker": {
             "pattern": {
              "fillmode": "overlay",
              "size": 10,
              "solidity": 0.2
             }
            },
            "type": "histogram"
           }
          ],
          "histogram2d": [
           {
            "colorbar": {
             "outlinewidth": 0,
             "ticks": ""
            },
            "colorscale": [
             [
              0,
              "#0d0887"
             ],
             [
              0.1111111111111111,
              "#46039f"
             ],
             [
              0.2222222222222222,
              "#7201a8"
             ],
             [
              0.3333333333333333,
              "#9c179e"
             ],
             [
              0.4444444444444444,
              "#bd3786"
             ],
             [
              0.5555555555555556,
              "#d8576b"
             ],
             [
              0.6666666666666666,
              "#ed7953"
             ],
             [
              0.7777777777777778,
              "#fb9f3a"
             ],
             [
              0.8888888888888888,
              "#fdca26"
             ],
             [
              1,
              "#f0f921"
             ]
            ],
            "type": "histogram2d"
           }
          ],
          "histogram2dcontour": [
           {
            "colorbar": {
             "outlinewidth": 0,
             "ticks": ""
            },
            "colorscale": [
             [
              0,
              "#0d0887"
             ],
             [
              0.1111111111111111,
              "#46039f"
             ],
             [
              0.2222222222222222,
              "#7201a8"
             ],
             [
              0.3333333333333333,
              "#9c179e"
             ],
             [
              0.4444444444444444,
              "#bd3786"
             ],
             [
              0.5555555555555556,
              "#d8576b"
             ],
             [
              0.6666666666666666,
              "#ed7953"
             ],
             [
              0.7777777777777778,
              "#fb9f3a"
             ],
             [
              0.8888888888888888,
              "#fdca26"
             ],
             [
              1,
              "#f0f921"
             ]
            ],
            "type": "histogram2dcontour"
           }
          ],
          "mesh3d": [
           {
            "colorbar": {
             "outlinewidth": 0,
             "ticks": ""
            },
            "type": "mesh3d"
           }
          ],
          "parcoords": [
           {
            "line": {
             "colorbar": {
              "outlinewidth": 0,
              "ticks": ""
             }
            },
            "type": "parcoords"
           }
          ],
          "pie": [
           {
            "automargin": true,
            "type": "pie"
           }
          ],
          "scatter": [
           {
            "fillpattern": {
             "fillmode": "overlay",
             "size": 10,
             "solidity": 0.2
            },
            "type": "scatter"
           }
          ],
          "scatter3d": [
           {
            "line": {
             "colorbar": {
              "outlinewidth": 0,
              "ticks": ""
             }
            },
            "marker": {
             "colorbar": {
              "outlinewidth": 0,
              "ticks": ""
             }
            },
            "type": "scatter3d"
           }
          ],
          "scattercarpet": [
           {
            "marker": {
             "colorbar": {
              "outlinewidth": 0,
              "ticks": ""
             }
            },
            "type": "scattercarpet"
           }
          ],
          "scattergeo": [
           {
            "marker": {
             "colorbar": {
              "outlinewidth": 0,
              "ticks": ""
             }
            },
            "type": "scattergeo"
           }
          ],
          "scattergl": [
           {
            "marker": {
             "colorbar": {
              "outlinewidth": 0,
              "ticks": ""
             }
            },
            "type": "scattergl"
           }
          ],
          "scattermapbox": [
           {
            "marker": {
             "colorbar": {
              "outlinewidth": 0,
              "ticks": ""
             }
            },
            "type": "scattermapbox"
           }
          ],
          "scatterpolar": [
           {
            "marker": {
             "colorbar": {
              "outlinewidth": 0,
              "ticks": ""
             }
            },
            "type": "scatterpolar"
           }
          ],
          "scatterpolargl": [
           {
            "marker": {
             "colorbar": {
              "outlinewidth": 0,
              "ticks": ""
             }
            },
            "type": "scatterpolargl"
           }
          ],
          "scatterternary": [
           {
            "marker": {
             "colorbar": {
              "outlinewidth": 0,
              "ticks": ""
             }
            },
            "type": "scatterternary"
           }
          ],
          "surface": [
           {
            "colorbar": {
             "outlinewidth": 0,
             "ticks": ""
            },
            "colorscale": [
             [
              0,
              "#0d0887"
             ],
             [
              0.1111111111111111,
              "#46039f"
             ],
             [
              0.2222222222222222,
              "#7201a8"
             ],
             [
              0.3333333333333333,
              "#9c179e"
             ],
             [
              0.4444444444444444,
              "#bd3786"
             ],
             [
              0.5555555555555556,
              "#d8576b"
             ],
             [
              0.6666666666666666,
              "#ed7953"
             ],
             [
              0.7777777777777778,
              "#fb9f3a"
             ],
             [
              0.8888888888888888,
              "#fdca26"
             ],
             [
              1,
              "#f0f921"
             ]
            ],
            "type": "surface"
           }
          ],
          "table": [
           {
            "cells": {
             "fill": {
              "color": "#EBF0F8"
             },
             "line": {
              "color": "white"
             }
            },
            "header": {
             "fill": {
              "color": "#C8D4E3"
             },
             "line": {
              "color": "white"
             }
            },
            "type": "table"
           }
          ]
         },
         "layout": {
          "annotationdefaults": {
           "arrowcolor": "#2a3f5f",
           "arrowhead": 0,
           "arrowwidth": 1
          },
          "autotypenumbers": "strict",
          "coloraxis": {
           "colorbar": {
            "outlinewidth": 0,
            "ticks": ""
           }
          },
          "colorscale": {
           "diverging": [
            [
             0,
             "#8e0152"
            ],
            [
             0.1,
             "#c51b7d"
            ],
            [
             0.2,
             "#de77ae"
            ],
            [
             0.3,
             "#f1b6da"
            ],
            [
             0.4,
             "#fde0ef"
            ],
            [
             0.5,
             "#f7f7f7"
            ],
            [
             0.6,
             "#e6f5d0"
            ],
            [
             0.7,
             "#b8e186"
            ],
            [
             0.8,
             "#7fbc41"
            ],
            [
             0.9,
             "#4d9221"
            ],
            [
             1,
             "#276419"
            ]
           ],
           "sequential": [
            [
             0,
             "#0d0887"
            ],
            [
             0.1111111111111111,
             "#46039f"
            ],
            [
             0.2222222222222222,
             "#7201a8"
            ],
            [
             0.3333333333333333,
             "#9c179e"
            ],
            [
             0.4444444444444444,
             "#bd3786"
            ],
            [
             0.5555555555555556,
             "#d8576b"
            ],
            [
             0.6666666666666666,
             "#ed7953"
            ],
            [
             0.7777777777777778,
             "#fb9f3a"
            ],
            [
             0.8888888888888888,
             "#fdca26"
            ],
            [
             1,
             "#f0f921"
            ]
           ],
           "sequentialminus": [
            [
             0,
             "#0d0887"
            ],
            [
             0.1111111111111111,
             "#46039f"
            ],
            [
             0.2222222222222222,
             "#7201a8"
            ],
            [
             0.3333333333333333,
             "#9c179e"
            ],
            [
             0.4444444444444444,
             "#bd3786"
            ],
            [
             0.5555555555555556,
             "#d8576b"
            ],
            [
             0.6666666666666666,
             "#ed7953"
            ],
            [
             0.7777777777777778,
             "#fb9f3a"
            ],
            [
             0.8888888888888888,
             "#fdca26"
            ],
            [
             1,
             "#f0f921"
            ]
           ]
          },
          "colorway": [
           "#636efa",
           "#EF553B",
           "#00cc96",
           "#ab63fa",
           "#FFA15A",
           "#19d3f3",
           "#FF6692",
           "#B6E880",
           "#FF97FF",
           "#FECB52"
          ],
          "font": {
           "color": "#2a3f5f"
          },
          "geo": {
           "bgcolor": "white",
           "lakecolor": "white",
           "landcolor": "#E5ECF6",
           "showlakes": true,
           "showland": true,
           "subunitcolor": "white"
          },
          "hoverlabel": {
           "align": "left"
          },
          "hovermode": "closest",
          "mapbox": {
           "style": "light"
          },
          "paper_bgcolor": "white",
          "plot_bgcolor": "#E5ECF6",
          "polar": {
           "angularaxis": {
            "gridcolor": "white",
            "linecolor": "white",
            "ticks": ""
           },
           "bgcolor": "#E5ECF6",
           "radialaxis": {
            "gridcolor": "white",
            "linecolor": "white",
            "ticks": ""
           }
          },
          "scene": {
           "xaxis": {
            "backgroundcolor": "#E5ECF6",
            "gridcolor": "white",
            "gridwidth": 2,
            "linecolor": "white",
            "showbackground": true,
            "ticks": "",
            "zerolinecolor": "white"
           },
           "yaxis": {
            "backgroundcolor": "#E5ECF6",
            "gridcolor": "white",
            "gridwidth": 2,
            "linecolor": "white",
            "showbackground": true,
            "ticks": "",
            "zerolinecolor": "white"
           },
           "zaxis": {
            "backgroundcolor": "#E5ECF6",
            "gridcolor": "white",
            "gridwidth": 2,
            "linecolor": "white",
            "showbackground": true,
            "ticks": "",
            "zerolinecolor": "white"
           }
          },
          "shapedefaults": {
           "line": {
            "color": "#2a3f5f"
           }
          },
          "ternary": {
           "aaxis": {
            "gridcolor": "white",
            "linecolor": "white",
            "ticks": ""
           },
           "baxis": {
            "gridcolor": "white",
            "linecolor": "white",
            "ticks": ""
           },
           "bgcolor": "#E5ECF6",
           "caxis": {
            "gridcolor": "white",
            "linecolor": "white",
            "ticks": ""
           }
          },
          "title": {
           "x": 0.05
          },
          "xaxis": {
           "automargin": true,
           "gridcolor": "white",
           "linecolor": "white",
           "ticks": "",
           "title": {
            "standoff": 15
           },
           "zerolinecolor": "white",
           "zerolinewidth": 2
          },
          "yaxis": {
           "automargin": true,
           "gridcolor": "white",
           "linecolor": "white",
           "ticks": "",
           "title": {
            "standoff": 15
           },
           "zerolinecolor": "white",
           "zerolinewidth": 2
          }
         }
        },
        "title": {
         "text": "Bougies BTCUSDT"
        },
        "xaxis": {
         "title": {
          "text": "Date"
         }
        },
        "yaxis": {
         "title": {
          "text": "Prix"
         }
        }
       }
      }
     },
     "metadata": {},
     "output_type": "display_data"
    }
   ],
   "source": [
    "import plotly.graph_objects as go\n",
    "\n",
    "# Tracer les bougies avec Plotly\n",
    "fig = go.Figure(data=[go.Candlestick(x=historical_candles_df.index,\n",
    "                open=historical_candles_df['open'],\n",
    "                high=historical_candles_df['high'],\n",
    "                low=historical_candles_df['low'],\n",
    "                close=historical_candles_df['close'])])\n",
    "fig.update_layout(title='Bougies BTCUSDT',\n",
    "                  xaxis_title='Date',\n",
    "                  yaxis_title='Prix',\n",
    "                  height=1000)  # Ajustez la hauteur ici selon vos besoins\n",
    "fig.show()"
   ]
  },
  {
   "cell_type": "code",
   "execution_count": 16,
   "metadata": {},
   "outputs": [
    {
     "data": {
      "text/html": [
       "    <style>\n",
       "        .bk-notebook-logo {\n",
       "            display: block;\n",
       "            width: 20px;\n",
       "            height: 20px;\n",
       "            background-image: url(data:image/png;base64,iVBORw0KGgoAAAANSUhEUgAAABQAAAAUCAYAAACNiR0NAAAABHNCSVQICAgIfAhkiAAAAAlwSFlzAAALEgAACxIB0t1+/AAAABx0RVh0U29mdHdhcmUAQWRvYmUgRmlyZXdvcmtzIENTNui8sowAAAOkSURBVDiNjZRtaJVlGMd/1/08zzln5zjP1LWcU9N0NkN8m2CYjpgQYQXqSs0I84OLIC0hkEKoPtiH3gmKoiJDU7QpLgoLjLIQCpEsNJ1vqUOdO7ppbuec5+V+rj4ctwzd8IIbbi6u+8f1539dt3A78eXC7QizUF7gyV1fD1Yqg4JWz84yffhm0qkFqBogB9rM8tZdtwVsPUhWhGcFJngGeWrPzHm5oaMmkfEg1usvLFyc8jLRqDOMru7AyC8saQr7GG7f5fvDeH7Ej8CM66nIF+8yngt6HWaKh7k49Soy9nXurCi1o3qUbS3zWfrYeQDTB/Qj6kX6Ybhw4B+bOYoLKCC9H3Nu/leUTZ1JdRWkkn2ldcCamzrcf47KKXdAJllSlxAOkRgyHsGC/zRday5Qld9DyoM4/q/rUoy/CXh3jzOu3bHUVZeU+DEn8FInkPBFlu3+nW3Nw0mk6vCDiWg8CeJaxEwuHS3+z5RgY+YBR6V1Z1nxSOfoaPa4LASWxxdNp+VWTk7+4vzaou8v8PN+xo+KY2xsw6une2frhw05CTYOmQvsEhjhWjn0bmXPjpE1+kplmmkP3suftwTubK9Vq22qKmrBhpY4jvd5afdRA3wGjFAgcnTK2s4hY0/GPNIb0nErGMCRxWOOX64Z8RAC4oCXdklmEvcL8o0BfkNK4lUg9HTl+oPlQxdNo3Mg4Nv175e/1LDGzZen30MEjRUtmXSfiTVu1kK8W4txyV6BMKlbgk3lMwYCiusNy9fVfvvwMxv8Ynl6vxoByANLTWplvuj/nF9m2+PDtt1eiHPBr1oIfhCChQMBw6Aw0UulqTKZdfVvfG7VcfIqLG9bcldL/+pdWTLxLUy8Qq38heUIjh4XlzZxzQm19lLFlr8vdQ97rjZVOLf8nclzckbcD4wxXMidpX30sFd37Fv/GtwwhzhxGVAprjbg0gCAEeIgwCZyTV2Z1REEW8O4py0wsjeloKoMr6iCY6dP92H6Vw/oTyICIthibxjm/DfN9lVz8IqtqKYLUXfoKVMVQVVJOElGjrnnUt9T9wbgp8AyYKaGlqingHZU/uG2NTZSVqwHQTWkx9hxjkpWDaCg6Ckj5qebgBVbT3V3NNXMSiWSDdGV3hrtzla7J+duwPOToIg42ChPQOQjspnSlp1V+Gjdged7+8UN5CRAV7a5EdFNwCjEaBR27b3W890TE7g24NAP/mMDXRWrGoFPQI9ls/MWO2dWFAar/xcOIImbbpA3zgAAAABJRU5ErkJggg==);\n",
       "        }\n",
       "    </style>\n",
       "    <div>\n",
       "        <a href=\"https://bokeh.org\" target=\"_blank\" class=\"bk-notebook-logo\"></a>\n",
       "        <span id=\"e0db0e7c-0d1b-41a0-9286-7542ff557dc3\">Loading BokehJS ...</span>\n",
       "    </div>\n"
      ]
     },
     "metadata": {},
     "output_type": "display_data"
    },
    {
     "data": {
      "application/javascript": "'use strict';\n(function(root) {\n  function now() {\n    return new Date();\n  }\n\n  const force = true;\n\n  if (typeof root._bokeh_onload_callbacks === \"undefined\" || force === true) {\n    root._bokeh_onload_callbacks = [];\n    root._bokeh_is_loading = undefined;\n  }\n\nconst JS_MIME_TYPE = 'application/javascript';\n  const HTML_MIME_TYPE = 'text/html';\n  const EXEC_MIME_TYPE = 'application/vnd.bokehjs_exec.v0+json';\n  const CLASS_NAME = 'output_bokeh rendered_html';\n\n  /**\n   * Render data to the DOM node\n   */\n  function render(props, node) {\n    const script = document.createElement(\"script\");\n    node.appendChild(script);\n  }\n\n  /**\n   * Handle when an output is cleared or removed\n   */\n  function handleClearOutput(event, handle) {\n    function drop(id) {\n      const view = Bokeh.index.get_by_id(id)\n      if (view != null) {\n        view.model.document.clear()\n        Bokeh.index.delete(view)\n      }\n    }\n\n    const cell = handle.cell;\n\n    const id = cell.output_area._bokeh_element_id;\n    const server_id = cell.output_area._bokeh_server_id;\n\n    // Clean up Bokeh references\n    if (id != null) {\n      drop(id)\n    }\n\n    if (server_id !== undefined) {\n      // Clean up Bokeh references\n      const cmd_clean = \"from bokeh.io.state import curstate; print(curstate().uuid_to_server['\" + server_id + \"'].get_sessions()[0].document.roots[0]._id)\";\n      cell.notebook.kernel.execute(cmd_clean, {\n        iopub: {\n          output: function(msg) {\n            const id = msg.content.text.trim()\n            drop(id)\n          }\n        }\n      });\n      // Destroy server and session\n      const cmd_destroy = \"import bokeh.io.notebook as ion; ion.destroy_server('\" + server_id + \"')\";\n      cell.notebook.kernel.execute(cmd_destroy);\n    }\n  }\n\n  /**\n   * Handle when a new output is added\n   */\n  function handleAddOutput(event, handle) {\n    const output_area = handle.output_area;\n    const output = handle.output;\n\n    // limit handleAddOutput to display_data with EXEC_MIME_TYPE content only\n    if ((output.output_type != \"display_data\") || (!Object.prototype.hasOwnProperty.call(output.data, EXEC_MIME_TYPE))) {\n      return\n    }\n\n    const toinsert = output_area.element.find(\".\" + CLASS_NAME.split(' ')[0]);\n\n    if (output.metadata[EXEC_MIME_TYPE][\"id\"] !== undefined) {\n      toinsert[toinsert.length - 1].firstChild.textContent = output.data[JS_MIME_TYPE];\n      // store reference to embed id on output_area\n      output_area._bokeh_element_id = output.metadata[EXEC_MIME_TYPE][\"id\"];\n    }\n    if (output.metadata[EXEC_MIME_TYPE][\"server_id\"] !== undefined) {\n      const bk_div = document.createElement(\"div\");\n      bk_div.innerHTML = output.data[HTML_MIME_TYPE];\n      const script_attrs = bk_div.children[0].attributes;\n      for (let i = 0; i < script_attrs.length; i++) {\n        toinsert[toinsert.length - 1].firstChild.setAttribute(script_attrs[i].name, script_attrs[i].value);\n        toinsert[toinsert.length - 1].firstChild.textContent = bk_div.children[0].textContent\n      }\n      // store reference to server id on output_area\n      output_area._bokeh_server_id = output.metadata[EXEC_MIME_TYPE][\"server_id\"];\n    }\n  }\n\n  function register_renderer(events, OutputArea) {\n\n    function append_mime(data, metadata, element) {\n      // create a DOM node to render to\n      const toinsert = this.create_output_subarea(\n        metadata,\n        CLASS_NAME,\n        EXEC_MIME_TYPE\n      );\n      this.keyboard_manager.register_events(toinsert);\n      // Render to node\n      const props = {data: data, metadata: metadata[EXEC_MIME_TYPE]};\n      render(props, toinsert[toinsert.length - 1]);\n      element.append(toinsert);\n      return toinsert\n    }\n\n    /* Handle when an output is cleared or removed */\n    events.on('clear_output.CodeCell', handleClearOutput);\n    events.on('delete.Cell', handleClearOutput);\n\n    /* Handle when a new output is added */\n    events.on('output_added.OutputArea', handleAddOutput);\n\n    /**\n     * Register the mime type and append_mime function with output_area\n     */\n    OutputArea.prototype.register_mime_type(EXEC_MIME_TYPE, append_mime, {\n      /* Is output safe? */\n      safe: true,\n      /* Index of renderer in `output_area.display_order` */\n      index: 0\n    });\n  }\n\n  // register the mime type if in Jupyter Notebook environment and previously unregistered\n  if (root.Jupyter !== undefined) {\n    const events = require('base/js/events');\n    const OutputArea = require('notebook/js/outputarea').OutputArea;\n\n    if (OutputArea.prototype.mime_types().indexOf(EXEC_MIME_TYPE) == -1) {\n      register_renderer(events, OutputArea);\n    }\n  }\n  if (typeof (root._bokeh_timeout) === \"undefined\" || force === true) {\n    root._bokeh_timeout = Date.now() + 5000;\n    root._bokeh_failed_load = false;\n  }\n\n  const NB_LOAD_WARNING = {'data': {'text/html':\n     \"<div style='background-color: #fdd'>\\n\"+\n     \"<p>\\n\"+\n     \"BokehJS does not appear to have successfully loaded. If loading BokehJS from CDN, this \\n\"+\n     \"may be due to a slow or bad network connection. Possible fixes:\\n\"+\n     \"</p>\\n\"+\n     \"<ul>\\n\"+\n     \"<li>re-rerun `output_notebook()` to attempt to load from CDN again, or</li>\\n\"+\n     \"<li>use INLINE resources instead, as so:</li>\\n\"+\n     \"</ul>\\n\"+\n     \"<code>\\n\"+\n     \"from bokeh.resources import INLINE\\n\"+\n     \"output_notebook(resources=INLINE)\\n\"+\n     \"</code>\\n\"+\n     \"</div>\"}};\n\n  function display_loaded(error = null) {\n    const el = document.getElementById(\"e0db0e7c-0d1b-41a0-9286-7542ff557dc3\");\n    if (el != null) {\n      const html = (() => {\n        if (typeof root.Bokeh === \"undefined\") {\n          if (error == null) {\n            return \"BokehJS is loading ...\";\n          } else {\n            return \"BokehJS failed to load.\";\n          }\n        } else {\n          const prefix = `BokehJS ${root.Bokeh.version}`;\n          if (error == null) {\n            return `${prefix} successfully loaded.`;\n          } else {\n            return `${prefix} <b>encountered errors</b> while loading and may not function as expected.`;\n          }\n        }\n      })();\n      el.innerHTML = html;\n\n      if (error != null) {\n        const wrapper = document.createElement(\"div\");\n        wrapper.style.overflow = \"auto\";\n        wrapper.style.height = \"5em\";\n        wrapper.style.resize = \"vertical\";\n        const content = document.createElement(\"div\");\n        content.style.fontFamily = \"monospace\";\n        content.style.whiteSpace = \"pre-wrap\";\n        content.style.backgroundColor = \"rgb(255, 221, 221)\";\n        content.textContent = error.stack ?? error.toString();\n        wrapper.append(content);\n        el.append(wrapper);\n      }\n    } else if (Date.now() < root._bokeh_timeout) {\n      setTimeout(() => display_loaded(error), 100);\n    }\n  }\n\n  function run_callbacks() {\n    try {\n      root._bokeh_onload_callbacks.forEach(function(callback) {\n        if (callback != null)\n          callback();\n      });\n    } finally {\n      delete root._bokeh_onload_callbacks\n    }\n    console.debug(\"Bokeh: all callbacks have finished\");\n  }\n\n  function load_libs(css_urls, js_urls, callback) {\n    if (css_urls == null) css_urls = [];\n    if (js_urls == null) js_urls = [];\n\n    root._bokeh_onload_callbacks.push(callback);\n    if (root._bokeh_is_loading > 0) {\n      console.debug(\"Bokeh: BokehJS is being loaded, scheduling callback at\", now());\n      return null;\n    }\n    if (js_urls == null || js_urls.length === 0) {\n      run_callbacks();\n      return null;\n    }\n    console.debug(\"Bokeh: BokehJS not loaded, scheduling load and callback at\", now());\n    root._bokeh_is_loading = css_urls.length + js_urls.length;\n\n    function on_load() {\n      root._bokeh_is_loading--;\n      if (root._bokeh_is_loading === 0) {\n        console.debug(\"Bokeh: all BokehJS libraries/stylesheets loaded\");\n        run_callbacks()\n      }\n    }\n\n    function on_error(url) {\n      console.error(\"failed to load \" + url);\n    }\n\n    for (let i = 0; i < css_urls.length; i++) {\n      const url = css_urls[i];\n      const element = document.createElement(\"link\");\n      element.onload = on_load;\n      element.onerror = on_error.bind(null, url);\n      element.rel = \"stylesheet\";\n      element.type = \"text/css\";\n      element.href = url;\n      console.debug(\"Bokeh: injecting link tag for BokehJS stylesheet: \", url);\n      document.body.appendChild(element);\n    }\n\n    for (let i = 0; i < js_urls.length; i++) {\n      const url = js_urls[i];\n      const element = document.createElement('script');\n      element.onload = on_load;\n      element.onerror = on_error.bind(null, url);\n      element.async = false;\n      element.src = url;\n      console.debug(\"Bokeh: injecting script tag for BokehJS library: \", url);\n      document.head.appendChild(element);\n    }\n  };\n\n  function inject_raw_css(css) {\n    const element = document.createElement(\"style\");\n    element.appendChild(document.createTextNode(css));\n    document.body.appendChild(element);\n  }\n\n  const js_urls = [\"https://cdn.bokeh.org/bokeh/release/bokeh-3.4.1.min.js\", \"https://cdn.bokeh.org/bokeh/release/bokeh-gl-3.4.1.min.js\", \"https://cdn.bokeh.org/bokeh/release/bokeh-widgets-3.4.1.min.js\", \"https://cdn.bokeh.org/bokeh/release/bokeh-tables-3.4.1.min.js\", \"https://cdn.bokeh.org/bokeh/release/bokeh-mathjax-3.4.1.min.js\"];\n  const css_urls = [];\n\n  const inline_js = [    function(Bokeh) {\n      Bokeh.set_log_level(\"info\");\n    },\nfunction(Bokeh) {\n    }\n  ];\n\n  function run_inline_js() {\n    if (root.Bokeh !== undefined || force === true) {\n      try {\n            for (let i = 0; i < inline_js.length; i++) {\n      inline_js[i].call(root, root.Bokeh);\n    }\n\n      } catch (error) {display_loaded(error);throw error;\n      }if (force === true) {\n        display_loaded();\n      }} else if (Date.now() < root._bokeh_timeout) {\n      setTimeout(run_inline_js, 100);\n    } else if (!root._bokeh_failed_load) {\n      console.log(\"Bokeh: BokehJS failed to load within specified timeout.\");\n      root._bokeh_failed_load = true;\n    } else if (force !== true) {\n      const cell = $(document.getElementById(\"e0db0e7c-0d1b-41a0-9286-7542ff557dc3\")).parents('.cell').data().cell;\n      cell.output_area.append_execute_result(NB_LOAD_WARNING)\n    }\n  }\n\n  if (root._bokeh_is_loading === 0) {\n    console.debug(\"Bokeh: BokehJS loaded, going straight to plotting\");\n    run_inline_js();\n  } else {\n    load_libs(css_urls, js_urls, function() {\n      console.debug(\"Bokeh: BokehJS plotting callback run at\", now());\n      run_inline_js();\n    });\n  }\n}(window));",
      "application/vnd.bokehjs_load.v0+json": ""
     },
     "metadata": {},
     "output_type": "display_data"
    },
    {
     "data": {
      "text/html": [
       "\n",
       "  <div id=\"b7ef0e29-6b3b-4809-9d61-2107f716e8bf\" data-root-id=\"p1445\" style=\"display: contents;\"></div>\n"
      ]
     },
     "metadata": {},
     "output_type": "display_data"
    },
    {
     "data": {
      "application/javascript": "(function(root) {\n  function embed_document(root) {\n  const docs_json = {\"fa312fe9-c347-419b-a58d-41cd556898bb\":{\"version\":\"3.4.1\",\"title\":\"Bokeh Application\",\"roots\":[{\"type\":\"object\",\"name\":\"Figure\",\"id\":\"p1445\",\"attributes\":{\"width\":1000,\"height\":500,\"x_range\":{\"type\":\"object\",\"name\":\"DataRange1d\",\"id\":\"p1446\"},\"y_range\":{\"type\":\"object\",\"name\":\"DataRange1d\",\"id\":\"p1447\"},\"x_scale\":{\"type\":\"object\",\"name\":\"LinearScale\",\"id\":\"p1455\"},\"y_scale\":{\"type\":\"object\",\"name\":\"LinearScale\",\"id\":\"p1456\"},\"title\":{\"type\":\"object\",\"name\":\"Title\",\"id\":\"p1448\",\"attributes\":{\"text\":\"Bougies BTCUSDT\"}},\"renderers\":[{\"type\":\"object\",\"name\":\"GlyphRenderer\",\"id\":\"p1496\",\"attributes\":{\"data_source\":{\"type\":\"object\",\"name\":\"ColumnDataSource\",\"id\":\"p1442\",\"attributes\":{\"selected\":{\"type\":\"object\",\"name\":\"Selection\",\"id\":\"p1443\",\"attributes\":{\"indices\":[],\"line_indices\":[]}},\"selection_policy\":{\"type\":\"object\",\"name\":\"UnionRenderers\",\"id\":\"p1444\"},\"data\":{\"type\":\"map\",\"entries\":[[\"timestamp\",{\"type\":\"ndarray\",\"array\":{\"type\":\"bytes\",\"data\":\"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\"},\"shape\":[274],\"dtype\":\"float64\",\"order\":\"little\"}],[\"open\",{\"type\":\"ndarray\",\"array\":{\"type\":\"bytes\",\"data\":\"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\"},\"shape\":[274],\"dtype\":\"float64\",\"order\":\"little\"}],[\"high\",{\"type\":\"ndarray\",\"array\":{\"type\":\"bytes\",\"data\":\"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\"},\"shape\":[274],\"dtype\":\"float64\",\"order\":\"little\"}],[\"low\",{\"type\":\"ndarray\",\"array\":{\"type\":\"bytes\",\"data\":\"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\"},\"shape\":[274],\"dtype\":\"float64\",\"order\":\"little\"}],[\"close\",{\"type\":\"ndarray\",\"array\":{\"type\":\"bytes\",\"data\":\"4XoUrn/t70AUrkfhBhDwQHE9CtcnF/BAPQrXoxwr8ED2KFyPBjHwQJqZmZnRIfBAPQrXo+wy8EBxPQrXfyXwQD0K16NgPfBAexSuR0k78EC4HoXrWSnwQI/C9Si8IPBAcT0K178W8ECPwvUowBDwQBSuR+E+RPBAj8L1KMAS8EAAAAAAKCnwQI/C9SgAGvBA7FG4HjEd8EAAAAAAgA/wQI/C9SgAC/BAw/UoXOsX8EAAAAAAwCXwQK5H4Xq0GvBAAAAAAAAv8EBxPQrX/yXwQEjhehQGDfBAj8L1KEAF8EDsUbgeDfnvQOxRuB55A/BAAAAAAIAO8ECamZmZuSLwQI/C9SjAKvBAuB6F6xUu8EC4HoXraS7wQIXrUbgaM/BAAAAAAFBJ8EBmZmZmomrwQFK4HoW/hvBAcT0K1/+D8EDXo3A9+o3wQBSuR+ESz/BAAAAAABi/8EAAAAAAQLnwQI/C9Si0lfBAZmZmZr6M8EDNzMzMEJbwQD0K16N8uPBAAAAAAOC/8EAAAAAAAKTwQAAAAAAAgfBAcT0K13+R8EBxPQrX/4PwQD0K16OAVPBAXI/C9Uhk8EBxPQrXK1fwQMP1KFzzZPBA4XoUrl9P8EBmZmZmql3wQAAAAADgOvBAcT0K1z9U8EAAAAAAwHrwQNejcD22ovBAuB6F6+ml8EDNzMzMHJfwQHE9Ctcnd/BAH4XrUdCC8EBmZmZmRnXwQOF6FK63g/BAMzMzM7d78ECuR+F6yILwQLgehevJjvBA7FG4HsmT8EBxPQrXn4bwQArXo3Bpf/BAj8L1KMCM8EAK16NwfYnwQHE9CtdrnPBAhetRuNag8EAfhetRgJnwQNejcD3CmvBAAAAAAACN8ECF61G4IpDwQPYoXI9ChfBAuB6F66WJ8EBxPQrXP4fwQHE9CtefmfBAAAAAAICg8EDhehSu96LwQM3MzMz0q/BArkfhejSt8EDhehSuP6rwQAAAAABgsvBAZmZmZrqs8EAAAAAAANzwQAAAAAAA0vBAcT0K13/Y8EBmZmZmWvrwQAAAAABA6/BAzczMzADy8ECkcD0Kh+vwQI/C9Shc8fBACtejcMHn8ECPwvUoQO/wQHE9Ctd/9vBAcT0K15/q8EDXo3A9Au3wQAAAAADQ7vBAcT0K13/t8EAUrkfhXu7wQKRwPQqn/PBAcT0K13v68EAAAAAAoBvxQI/C9ShgCvFAj8L1KODw8ECPwvUowNzwQKRwPQrb6/BAzczMzHTa8EAAAAAAAOXwQNejcD0G7/BAcT0K19/s8EAfhetR0PPwQAAAAADA5vBAMzMzMy/18EAAAAAAYPDwQHE9CtdfBPFAPQrXo+QJ8UBI4XoUqkLxQAAAAAAAkvFAAAAAAFSg8UDhehSuP6jxQAAAAABArfFAH4XrUUCf8UBcj8L1hJDxQAAAAADggvFA4XoUrt+F8UCamZmZwYPxQOF6FK4zgfFAKVyPwkmO8UAAAAAAYIXxQHE9Ctf/gfFAj8L1KMCA8UAK16NwwY7xQAAAAABAfPFAcT0K179v8UDD9Shct2bxQKRwPQpXc/FAAAAAAFBn8UCPwvUogGLxQAAAAAAAWfFApHA9CttG8UBxPQrX/y7xQI/C9ShANvFAFK5H4YIv8UDXo3A9ajrxQJqZmZmtSPFAAAAAACBC8UAAAAAAgBLxQOxRuB7l7vBAAAAAAADp8EBxPQrXk7/wQHE9Ctd/zfBA4XoUrvPQ8EAfhetRjNjwQKRwPQoz4/BAexSuR93l8EBmZmZm2uzwQAAAAACg4fBAXI/C9Szh8EAAAAAAXOnwQOF6FK6/wvBAFK5H4eLh8EB7FK5H5eDwQOxRuB596PBAAAAAAJTv8ECuR+F6hO3wQIXrUbg+2fBAMzMzMzPh8ECPwvUoQNTwQAAAAAAw2/BAAAAAAICY8EAfhetRPKrwQM3MzMzwxfBA7FG4HhXD8EAAAAAAwPfwQClcj8Jh7vBAexSuRyXs8EBxPQrXPxzxQI/C9ShAC/FAAAAAABAY8UAAAAAAADjxQHsUrkdxPvFAj8L1KIA38UCuR+F6lDnxQPYoXI86VfFAhetRuDpM8UCPwvUowDzxQHE9Ctd/O/FA7FG4Ht1D8UBxPQrX/0TxQNejcD32V/FAAAAAAMA88UBxPQrXvzPxQPYoXI/yFfFAexSuR61M8UAAAAAAwCjxQD0K16MI/vBAAAAAAAAX8UBxPQrXvxfxQHE9Cte/I/FAAAAAADwd8UCF61G4ujPxQLgehes5NvFA9ihcjzYe8UCPwvUodCDxQOF6FK5jF/FASOF6FNop8UCPwvUogCjxQBSuR+G+PvFAH4XrURRU8UBxPQrXv1zxQOxRuB7FUvFAzczMzHBN8UCPwvUowEbxQHE9Ctd/RvFAAAAAAMA/8UBmZmZmJkjxQI/C9SiAT/FAcT0K12M48UAAAAAAABDxQI/C9Shg6fBAzczMzDTu8EA9CtejiM7wQB+F61HAovBAAAAAAMA78EDhehSuv1HwQAAAAAAAY/BAj8L1KABZ8EB7FK5H1V7wQB+F61HIYvBAH4XrURRW8EBI4XoU6hXwQHE9Ctd/PvBAzczMzIhl8EC4HoXrOYDwQOF6FK4XcfBAH4XrUUB58EAfhetRaHfwQAAAAACAZvBAmpmZmR108EAAAAAARHbwQAAAAAAAcvBApHA9Cqt78ECuR+F6AH7wQFyPwvV4fvBAAAAAAMCF8EC4HoXrhXbwQLgeheutSvBAH4XrUURl8EAfhetRgKLvQD0K16MAL+5AH4XrUQC67kCF61G4rmTvQB+F61GQNu9AKVyPwgUX70BSuB6F4x/vQClcj8KFze5AmpmZmbH57kDhehSunzrvQOF6FK7/b+9AhetRuD6R70CamZmZCXrvQArXo3BVgu9AAAAAAKBJ70A=\"},\"shape\":[274],\"dtype\":\"float64\",\"order\":\"little\"}],[\"volume\",{\"type\":\"ndarray\",\"array\":{\"type\":\"bytes\",\"data\":\"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\"},\"shape\":[274],\"dtype\":\"float64\",\"order\":\"little\"}],[\"close_time\",{\"type\":\"ndarray\",\"array\":{\"type\":\"bytes\",\"data\":\"APDnhBfqeEIA8M/zGup4QgDwt2Ie6nhCAPCf0SHqeEIA8IdAJep4QgDwb68o6nhCAPBXHizqeEIA8D+NL+p4QgDwJ/wy6nhCAPAPazbqeEIA8PfZOep4QgDw30g96nhCAPDHt0DqeEIA8K8mROp4QgDwl5VH6nhCAPB/BEvqeEIA8GdzTup4QgDwT+JR6nhCAPA3UVXqeEIA8B/AWOp4QgDwBy9c6nhCAPDvnV/qeEIA8NcMY+p4QgDwv3tm6nhCAPCn6mnqeEIA8I9Zbep4QgDwd8hw6nhCAPBfN3TqeEIA8Eemd+p4QgDwLxV76nhCAPAXhH7qeEIA8P/ygep4QgDw52GF6nhCAPDP0IjqeEIA8Lc/jOp4QgDwn66P6nhCAPCHHZPqeEIA8G+Mlup4QgDwV/uZ6nhCAPA/ap3qeEIA8CfZoOp4QgDwD0ik6nhCAPD3tqfqeEIA8N8lq+p4QgDwx5Su6nhCAPCvA7LqeEIA8Jdytep4QgDwf+G46nhCAPBnULzqeEIA8E+/v+p4QgDwNy7D6nhCAPAfncbqeEIA8AcMyup4QgDw73rN6nhCAPDX6dDqeEIA8L9Y1Op4QgDwp8fX6nhCAPCPNtvqeEIA8Hel3up4QgDwXxTi6nhCAPBHg+XqeEIA8C/y6Op4QgDwF2Hs6nhCAPD/z+/qeEIA8Oc+8+p4QgDwz6326nhCAPC3HPrqeEIA8J+L/ep4QgDwh/oA63hCAPBvaQTreEIA8FfYB+t4QgDwP0cL63hCAPAntg7reEIA8A8lEut4QgDw95MV63hCAPDfAhnreEIA8MdxHOt4QgDwr+Af63hCAPCXTyPreEIA8H++Jut4QgDwZy0q63hCAPBPnC3reEIA8DcLMet4QgDwH3o063hCAPAH6TfreEIA8O9XO+t4QgDw18Y+63hCAPC/NULreEIA8KekRet4QgDwjxNJ63hCAPB3gkzreEIA8F/xT+t4QgDwR2BT63hCAPAvz1breEIA8Bc+Wut4QgDw/6xd63hCAPDnG2HreEIA8M+KZOt4QgDwt/ln63hCAPCfaGvreEIA8IfXbut4QgDwb0Zy63hCAPBXtXXreEIA8D8keet4QgDwJ5N863hCAPAPAoDreEIA8Pdwg+t4QgDw39+G63hCAPDHTorreEIA8K+9jet4QgDwlyyR63hCAPB/m5TreEIA8GcKmOt4QgDwT3mb63hCAPA36J7reEIA8B9Xout4QgDwB8al63hCAPDvNKnreEIA8NejrOt4QgDwvxKw63hCAPCngbPreEIA8I/wtut4QgDwd1+663hCAPBfzr3reEIA8Ec9wet4QgDwL6zE63hCAPAXG8jreEIA8P+Jy+t4QgDw5/jO63hCAPDPZ9LreEIA8LfW1et4QgDwn0XZ63hCAPCHtNzreEIA8G8j4Ot4QgDwV5Lj63hCAPA/AefreEIA8Cdw6ut4QgDwD9/t63hCAPD3TfHreEIA8N+89Ot4QgDwxyv463hCAPCvmvvreEIA8JcJ/+t4QgDwf3gC7HhCAPBn5wXseEIA8E9WCex4QgDwN8UM7HhCAPAfNBDseEIA8AejE+x4QgDw7xEX7HhCAPDXgBrseEIA8L/vHex4QgDwp14h7HhCAPCPzSTseEIA8Hc8KOx4QgDwX6sr7HhCAPBHGi/seEIA8C+JMux4QgDwF/g17HhCAPD/ZjnseEIA8OfVPOx4QgDwz0RA7HhCAPC3s0PseEIA8J8iR+x4QgDwh5FK7HhCAPBvAE7seEIA8FdvUex4QgDwP95U7HhCAPAnTVjseEIA8A+8W+x4QgDw9ypf7HhCAPDfmWLseEIA8McIZux4QgDwr3dp7HhCAPCX5mzseEIA8H9VcOx4QgDwZ8Rz7HhCAPBPM3fseEIA8Deieux4QgDwHxF+7HhCAPAHgIHseEIA8O/uhOx4QgDw112I7HhCAPC/zIvseEIA8Kc7j+x4QgDwj6qS7HhCAPB3GZbseEIA8F+Imex4QgDwR/ec7HhCAPAvZqDseEIA8BfVo+x4QgDw/0On7HhCAPDnsqrseEIA8M8hrux4QgDwt5Cx7HhCAPCf/7TseEIA8IduuOx4QgDwb9277HhCAPBXTL/seEIA8D+7wux4QgDwJyrG7HhCAPAPmcnseEIA8PcHzex4QgDw33bQ7HhCAPDH5dPseEIA8K9U1+x4QgDwl8Pa7HhCAPB/Mt7seEIA8Geh4ex4QgDwTxDl7HhCAPA3f+jseEIA8B/u6+x4QgDwB13v7HhCAPDvy/LseEIA8Nc69ux4QgDwv6n57HhCAPCnGP3seEIA8I+HAO14QgDwd/YD7XhCAPBfZQfteEIA8EfUCu14QgDwL0MO7XhCAPAXshHteEIA8P8gFe14QgDw548Y7XhCAPDP/hvteEIA8LdtH+14QgDwn9wi7XhCAPCHSybteEIA8G+6Ke14QgDwVykt7XhCAPA/mDDteEIA8CcHNO14QgDwD3Y37XhCAPD35DrteEIA8N9TPu14QgDwx8JB7XhCAPCvMUXteEIA8JegSO14QgDwfw9M7XhCAPBnfk/teEIA8E/tUu14QgDwN1xW7XhCAPAfy1nteEIA8Ac6Xe14QgDw76hg7XhCAPDXF2TteEIA8L+GZ+14QgDwp/Vq7XhCAPCPZG7teEIA8HfTce14QgDwX0J17XhCAPBHsXjteEIA8C8gfO14QgDwF49/7XhCAPD//YLteEIA8Odshu14QgDwz9uJ7XhCAPC3So3teEIA8J+5kO14QgDwhyiU7XhCAPBvl5fteEIA8FcGm+14QgDwP3We7XhCAPAn5KHteEIA8A9Tpe14QgDw98Go7XhCAPDfMKzteEIA8Mefr+14QgDwrw6z7XhCAPCXfbbteEIA8H/sue14QgDwZ1u97XhCAPBPysDteEI=\"},\"shape\":[274],\"dtype\":\"float64\",\"order\":\"little\"}],[\"quote_asset_volume\",{\"type\":\"ndarray\",\"array\":{\"type\":\"bytes\",\"data\":\"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\"},\"shape\":[274],\"dtype\":\"float64\",\"order\":\"little\"}],[\"number_of_trades\",{\"type\":\"ndarray\",\"array\":{\"type\":\"bytes\",\"data\":\"5B8CAKyXAQAkSwEAag4BAEINAQBS2gAAAt0AAJ7cAAAkUQEAHxwBAPIfAQDaVAEAMTABANxVAQBe2wEAh3MBAKxtAQAMbwIAjnsCAE+DAgBmNQEAcvAAAGQEAQCctQAA6OAAANDEAAAjSAEA9dQAACQiAQBguQAAAK8AAK9QAQDcIAEA+/0AAAkSAQCb6wAA0koBAEAfAgBE7AEAGU0BAKyPAQDQrQEAPnwCAMSkAQC9EgIAGOAAAEjPAACpCQEAMxMBAOJCAQA5UAEAeeoAAL/nAABeyQEAIeEAABoGAQC2PQEAd4oBAM9XAQC4SgEADlgCALeaAQB2RAIAkEsBAJEWAQDy2AAAljMBAOIcAQADpwAA29MAAFGwAADUgwAAM7AAAImvAADgtAAAcosAADZ+AAB2ZAEATIAAAAShAAAghAAAZ6AAANp/AACQkQAArcMAALipAABjyQAA4koBAESmAACnsQAAeIUAAGaBAAANcAAAkHYAABxxAQDdzQEAdrYAAIT3AADj5wAA96sAAHe0AAAgoQAAYrsAAPCaAABSlQAAz6QAAGRxAACwlwAA6aQAAM6nAAA3ygAA2j4BAMfiAQDC8wAAXPQAAOcfAQDBqQAAY50AAFPxAAA7swAAj9AAAGvzAAALuAAA65MAAC5mAABzsgAAGaYAAEiFAgAFqQMApvcCAOy/AQAFwAEA8oECAHQLAgDRMQIAbCgBAMPgAACE+gAAt8AAAEPdAABAowAAXnUAANSUAAA9kgAAdrkAABkrAQADqwAA+74AAG7aAABRnQAAE2gBAMywAQBD/wEAKg0BAJbFAABfswAAQtoAAEKyAQDhwgMAlMcBAL+wAQD6oAEA/KAAABa7AADwiwAA/IsAANGGAABvvwAAdJMAADoUAQClgAEAnt4AAGx6AAB3mwAA9YIAAJuFAAANcgEA55cAAPshAQBerwAAox4DAGQCAgDX5QEAnjEBAKz/AQBlwQEAtf8AAIhHAQClyAAAmaYAALMAAgCekQAArr8AAMPBAAAOFAEALJkAACveAABAeAAAiaoAAJ0nAQDu/QAAs+kAAB7SAACSagEArKUCADGdAgBK4QEAzhwBAJQfAQD97gAAgMwAAIEHAQCYKAEA3J8AAP1tAADuegAAW5AAAAVhAADCvQAAe0oBALCyAAAeqAAAgpAAAPXuAAACyQAA+NsAAIasAABZCgEAbncBAOgtAwBu7wEAzlkBAFxiAgCvNQQAa6gGAK3fAgAqtAEAhA0BAIL8AADJGwEAdDQBAMhUAgCf6QEA854BAAzrAQAojAEA5tsAAEAFAQAA2QAA+sMAADG0AABlBAEABEABAJXnAAD/0wAA2BUBANdTAQDtwgIAusYBAEerAwDlOwsAj6oDAHB/AwBLPAMAHJQCANWgAQDQjAEAJq4CAPDaAQCCVgEA0KQBAHM/AQBNKQEA9XEBAA==\"},\"shape\":[274],\"dtype\":\"int32\",\"order\":\"little\"}],[\"taker_buy_base_asset_volume\",{\"type\":\"ndarray\",\"array\":{\"type\":\"bytes\",\"data\":\"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\"},\"shape\":[274],\"dtype\":\"float64\",\"order\":\"little\"}],[\"taker_buy_quote_asset_volume\",{\"type\":\"ndarray\",\"array\":{\"type\":\"bytes\",\"data\":\"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\"},\"shape\":[274],\"dtype\":\"float64\",\"order\":\"little\"}],[\"ignore\",{\"type\":\"ndarray\",\"array\":{\"type\":\"bytes\",\"data\":\"AAAAAAAAAAAAAAAAAAAAAAAAAAAAAAAAAAAAAAAAAAAAAAAAAAAAAAAAAAAAAAAAAAAAAAAAAAAAAAAAAAAAAAAAAAAAAAAAAAAAAAAAAAAAAAAAAAAAAAAAAAAAAAAAAAAAAAAAAAAAAAAAAAAAAAAAAAAAAAAAAAAAAAAAAAAAAAAAAAAAAAAAAAAAAAAAAAAAAAAAAAAAAAAAAAAAAAAAAAAAAAAAAAAAAAAAAAAAAAAAAAAAAAAAAAAAAAAAAAAAAAAAAAAAAAAAAAAAAAAAAAAAAAAAAAAAAAAAAAAAAAAAAAAAAAAAAAAAAAAAAAAAAAAAAAAAAAAAAAAAAAAAAAAAAAAAAAAAAAAAAAAAAAAAAAAAAAAAAAAAAAAAAAAAAAAAAAAAAAAAAAAAAAAAAAAAAAAAAAAAAAAAAAAAAAAAAAAAAAAAAAAAAAAAAAAAAAAAAAAAAAAAAAAAAAAAAAAAAAAAAAAAAAAAAAAAAAAAAAAAAAAAAAAAAAAAAAAAAAAAAAAAAAAAAAAAAAAAAAAAAAAAAAAAAAAAAAAAAAAAAAAAAAAAAAAAAAAAAAAAAAAAAAAAAAAAAAAAAAAAAAAAAAAAAAAAAAAAAAAAAAAAAAAAAAAAAAAAAAAAAAAAAAAAAAAAAAAAAAAAAAAAAAAAAAAAAAAAAAAAAAAAAAAAAAAAAAAAAAAAAAAAAAAAAAAAAAAAAAAAAAAAAAAAAAAAAAAAAAAAAAAAAAAAAAAAAAAAAAAAAAAAAAAAAAAAAAAAAAAAAAAAAAAAAAAAAAAAAAAAAAAAAAAAAAAAAAAAAAAAAAAAAAAAAAAAAAAAAAAAAAAAAAAAAAAAAAAAAAAAAAAAAAAAAAAAAAAAAAAAAAAAAAAAAAAAAAAAAAAAAAAAAAAAAAAAAAAAAAAAAAAAAAAAAAAAAAAAAAAAAAAAAAAAAAAAAAAAAAAAAAAAAAAAAAAAAAAAAAAAAAAAAAAAAAAAAAAAAAAAAAAAAAAAAAAAAAAAAAAAAAAAAAAAAAAAAAAAAAAAAAAAAAAAAAAAAAAAAAAAAAAAAAAAAAAAAAAAAAAAAAAAAAAAAAAAAAAAAAAAAAAAAAAAAAAAAAAAAAAAAAAAAAAAAAAAAAAAAAAAAAAAAAAAAAAAAAAAAAAAAAAAAAAAAAAAAAAAAAAAAAAAAAAAAAAAAAAAAAAAAAAAAAAAAAAAAAAAAAAAAAAAAAAAAAAAAAAAAAAAAAAAAAAAAAAAAAAAAAAAAAAAAAAAAAAAAAAAAAAAAAAAAAAAAAAAAAAAAAAAAAAAAAAAAAAAAAAAAAAAAAAAAAAAAAAAAAAAAAAAAAAAAAAAAAAAAAAAAAAAAAAAAAAAAAAAAAAAAAAAAAAAAAAAAAAAAAAAAAAAAAAAAAAAAAAAAAAAAAAAAAAAAAAAAAAAAAAAAAAAAAAAAAAAAAAAAAAAAAAAAAAAAAAAAAAAAAAAAAAAAAAAAAAAAAAAAAAAAAAAAAAAAAAAAAAAAAAAAAAAAAAAAAAAAAAAAAAAAAAAAAAAAAAAAAAAAAAAAAAAAAAAAAAAAAAAAAAAAAAAAAAAAAAAAAAAAAAAAAAAAAAAAAAAAAAAAAAAAAAAAAAAAAAAAAAAAAAAAAAAAAAAAAAAAAAAAAAAAAAAAAAAAAAAAAAAAAAAAAAAAAAAAAAAAAAAAAAAAAAAAAAAAAAAAAAAAAAAAAAAAAAAAAAAAAAAAAAAAAAAAAAAAAAAAAAAAAAAAAAAAAAAAAAAAAAAAAAAAAAAAAAAAAAAAAAAAAAAAAAAAAAAAAAAAAAAAAAAAAAAAAAAAAAAAAAAAAAAAAAAAAAAAAAAAAAAAAAAAAAAAAAAAAAAAAAAAAAAAAAAAAAAAAAAAAAAAAAAAAAAAAAAAAAAAAAAAAAAAAAAAAAAAAAAAAAAAAAAAAAAAAAAAAAAAAAAAAAAAAAAAAAAAAAAAAAAAAAAAAAAAAAAAAAAAAAAAAAAAAAAAAAAAAAAAAAAAAAAAAAAAAAAAAAAAAAAAAAAAAAAAAAAAAAAAAAAAAAAAAAAAAAAAAAAAAAAAAAAAAAAAAAAAAAAAAAAAAAAAAAAAAAAAAAAAAAAAAAAAAAAAAAAAAAAAAAAAAAAAAAAAAAAAAAAAAAAAAAAAAAAAAAAAAAAAAAAAAAAAAAAAAAAAAAAAAAAAAAAAAAAAAAAAAAAAAAAAAAAAAAAAAAAAAAAAAAAAAAAAAAAAAAAAAAAAAAAAAAAAAAAAAAAAAAAAAAAAAAAAAAAAAAAAAAAAAAAAAAAAAAAAAAAAAAAAAAAAAAAAAAAAAAAAAAAAAAAAAAAAAAAAAAAAAAAAAAAAAAAAAAAAAAAAAAAAAAAAAAAAAAAAAAAAAAAAAAAAAAAAAAAAAAAAAAAAAAAAAAAAAAAAAAAAAAAAAAAAAAAAAAAAAAAAAAAAAAAAAAAAAAAAAAAAAAAAAAAAAAAAAAAAAAAAAAAAAAAAAAAAAAAAAAAAAAAAAAAAAAAAAAAAAAAAAAAAAAAAAAAAAAAAAAAAAAAAAAAAAAAAAAAAAAAAAAAAAAAAAAAAAAAAAAAAAAAAAAAAAAAAAAAAAAAAAAAAAAAAAAAAAAAAAAAAAAAAAAAAAAAAAAAAAAAAAAAAAAAAAAAAAAAAAAAAAAAAAAAAAAAAAAAAAAAAAAAAAAAAAAAAAAAAAAAAAAAAAAAAAAAAAAAAAAAAAAAAAAAAAAAAAAAAAAAAAAAAAAAAAAAAAAAAAAAAAAAAAAAAAAAAAAAAAAAAAAAAAAAAAAAAAAAAAAAAAAAAAAAAAAAAAAAAAAAAAAAAAAAAAAAAAAAAAAAAAAAAAAAAAAAAAAAAAAAAAAAAAAAAAAAAAAAAAAAAAAAAAAAAAAAAAAAAAAAAAAAAAAAAAAAAAAAAAA=\"},\"shape\":[274],\"dtype\":\"float64\",\"order\":\"little\"}]]}}},\"view\":{\"type\":\"object\",\"name\":\"CDSView\",\"id\":\"p1497\",\"attributes\":{\"filter\":{\"type\":\"object\",\"name\":\"AllIndices\",\"id\":\"p1498\"}}},\"glyph\":{\"type\":\"object\",\"name\":\"Segment\",\"id\":\"p1493\",\"attributes\":{\"x0\":{\"type\":\"field\",\"field\":\"timestamp\"},\"y0\":{\"type\":\"field\",\"field\":\"high\"},\"x1\":{\"type\":\"field\",\"field\":\"timestamp\"},\"y1\":{\"type\":\"field\",\"field\":\"low\"}}},\"nonselection_glyph\":{\"type\":\"object\",\"name\":\"Segment\",\"id\":\"p1494\",\"attributes\":{\"x0\":{\"type\":\"field\",\"field\":\"timestamp\"},\"y0\":{\"type\":\"field\",\"field\":\"high\"},\"x1\":{\"type\":\"field\",\"field\":\"timestamp\"},\"y1\":{\"type\":\"field\",\"field\":\"low\"},\"line_alpha\":{\"type\":\"value\",\"value\":0.1}}},\"muted_glyph\":{\"type\":\"object\",\"name\":\"Segment\",\"id\":\"p1495\",\"attributes\":{\"x0\":{\"type\":\"field\",\"field\":\"timestamp\"},\"y0\":{\"type\":\"field\",\"field\":\"high\"},\"x1\":{\"type\":\"field\",\"field\":\"timestamp\"},\"y1\":{\"type\":\"field\",\"field\":\"low\"},\"line_alpha\":{\"type\":\"value\",\"value\":0.2}}}}},{\"type\":\"object\",\"name\":\"GlyphRenderer\",\"id\":\"p1505\",\"attributes\":{\"data_source\":{\"id\":\"p1442\"},\"view\":{\"type\":\"object\",\"name\":\"CDSView\",\"id\":\"p1506\",\"attributes\":{\"filter\":{\"type\":\"object\",\"name\":\"AllIndices\",\"id\":\"p1507\"}}},\"glyph\":{\"type\":\"object\",\"name\":\"VBar\",\"id\":\"p1502\",\"attributes\":{\"x\":{\"type\":\"field\",\"field\":\"timestamp\"},\"width\":{\"type\":\"value\",\"value\":0.5},\"bottom\":{\"type\":\"field\",\"field\":\"close\"},\"top\":{\"type\":\"field\",\"field\":\"open\"},\"fill_color\":{\"type\":\"value\",\"value\":\"green\"}}},\"nonselection_glyph\":{\"type\":\"object\",\"name\":\"VBar\",\"id\":\"p1503\",\"attributes\":{\"x\":{\"type\":\"field\",\"field\":\"timestamp\"},\"width\":{\"type\":\"value\",\"value\":0.5},\"bottom\":{\"type\":\"field\",\"field\":\"close\"},\"top\":{\"type\":\"field\",\"field\":\"open\"},\"line_alpha\":{\"type\":\"value\",\"value\":0.1},\"fill_color\":{\"type\":\"value\",\"value\":\"green\"},\"fill_alpha\":{\"type\":\"value\",\"value\":0.1},\"hatch_alpha\":{\"type\":\"value\",\"value\":0.1}}},\"muted_glyph\":{\"type\":\"object\",\"name\":\"VBar\",\"id\":\"p1504\",\"attributes\":{\"x\":{\"type\":\"field\",\"field\":\"timestamp\"},\"width\":{\"type\":\"value\",\"value\":0.5},\"bottom\":{\"type\":\"field\",\"field\":\"close\"},\"top\":{\"type\":\"field\",\"field\":\"open\"},\"line_alpha\":{\"type\":\"value\",\"value\":0.2},\"fill_color\":{\"type\":\"value\",\"value\":\"green\"},\"fill_alpha\":{\"type\":\"value\",\"value\":0.2},\"hatch_alpha\":{\"type\":\"value\",\"value\":0.2}}}}}],\"toolbar\":{\"type\":\"object\",\"name\":\"Toolbar\",\"id\":\"p1454\",\"attributes\":{\"tools\":[{\"type\":\"object\",\"name\":\"PanTool\",\"id\":\"p1479\"},{\"type\":\"object\",\"name\":\"WheelZoomTool\",\"id\":\"p1480\",\"attributes\":{\"renderers\":\"auto\"}},{\"type\":\"object\",\"name\":\"BoxZoomTool\",\"id\":\"p1481\",\"attributes\":{\"overlay\":{\"type\":\"object\",\"name\":\"BoxAnnotation\",\"id\":\"p1482\",\"attributes\":{\"syncable\":false,\"level\":\"overlay\",\"visible\":false,\"left\":{\"type\":\"number\",\"value\":\"nan\"},\"right\":{\"type\":\"number\",\"value\":\"nan\"},\"top\":{\"type\":\"number\",\"value\":\"nan\"},\"bottom\":{\"type\":\"number\",\"value\":\"nan\"},\"left_units\":\"canvas\",\"right_units\":\"canvas\",\"top_units\":\"canvas\",\"bottom_units\":\"canvas\",\"line_color\":\"black\",\"line_alpha\":1.0,\"line_width\":2,\"line_dash\":[4,4],\"fill_color\":\"lightgrey\",\"fill_alpha\":0.5}}}},{\"type\":\"object\",\"name\":\"SaveTool\",\"id\":\"p1487\"},{\"type\":\"object\",\"name\":\"ResetTool\",\"id\":\"p1488\"},{\"type\":\"object\",\"name\":\"HelpTool\",\"id\":\"p1489\"}]}},\"left\":[{\"type\":\"object\",\"name\":\"LinearAxis\",\"id\":\"p1474\",\"attributes\":{\"ticker\":{\"type\":\"object\",\"name\":\"BasicTicker\",\"id\":\"p1475\",\"attributes\":{\"mantissas\":[1,2,5]}},\"formatter\":{\"type\":\"object\",\"name\":\"BasicTickFormatter\",\"id\":\"p1476\"},\"axis_label\":\"Prix\",\"major_label_policy\":{\"type\":\"object\",\"name\":\"AllLabels\",\"id\":\"p1477\"}}}],\"below\":[{\"type\":\"object\",\"name\":\"DatetimeAxis\",\"id\":\"p1457\",\"attributes\":{\"ticker\":{\"type\":\"object\",\"name\":\"DatetimeTicker\",\"id\":\"p1458\",\"attributes\":{\"num_minor_ticks\":5,\"tickers\":[{\"type\":\"object\",\"name\":\"AdaptiveTicker\",\"id\":\"p1459\",\"attributes\":{\"num_minor_ticks\":0,\"mantissas\":[1,2,5],\"max_interval\":500.0}},{\"type\":\"object\",\"name\":\"AdaptiveTicker\",\"id\":\"p1460\",\"attributes\":{\"num_minor_ticks\":0,\"base\":60,\"mantissas\":[1,2,5,10,15,20,30],\"min_interval\":1000.0,\"max_interval\":1800000.0}},{\"type\":\"object\",\"name\":\"AdaptiveTicker\",\"id\":\"p1461\",\"attributes\":{\"num_minor_ticks\":0,\"base\":24,\"mantissas\":[1,2,4,6,8,12],\"min_interval\":3600000.0,\"max_interval\":43200000.0}},{\"type\":\"object\",\"name\":\"DaysTicker\",\"id\":\"p1462\",\"attributes\":{\"days\":[1,2,3,4,5,6,7,8,9,10,11,12,13,14,15,16,17,18,19,20,21,22,23,24,25,26,27,28,29,30,31]}},{\"type\":\"object\",\"name\":\"DaysTicker\",\"id\":\"p1463\",\"attributes\":{\"days\":[1,4,7,10,13,16,19,22,25,28]}},{\"type\":\"object\",\"name\":\"DaysTicker\",\"id\":\"p1464\",\"attributes\":{\"days\":[1,8,15,22]}},{\"type\":\"object\",\"name\":\"DaysTicker\",\"id\":\"p1465\",\"attributes\":{\"days\":[1,15]}},{\"type\":\"object\",\"name\":\"MonthsTicker\",\"id\":\"p1466\",\"attributes\":{\"months\":[0,1,2,3,4,5,6,7,8,9,10,11]}},{\"type\":\"object\",\"name\":\"MonthsTicker\",\"id\":\"p1467\",\"attributes\":{\"months\":[0,2,4,6,8,10]}},{\"type\":\"object\",\"name\":\"MonthsTicker\",\"id\":\"p1468\",\"attributes\":{\"months\":[0,4,8]}},{\"type\":\"object\",\"name\":\"MonthsTicker\",\"id\":\"p1469\",\"attributes\":{\"months\":[0,6]}},{\"type\":\"object\",\"name\":\"YearsTicker\",\"id\":\"p1470\"}]}},\"formatter\":{\"type\":\"object\",\"name\":\"DatetimeTickFormatter\",\"id\":\"p1471\"},\"axis_label\":\"Date\",\"major_label_policy\":{\"type\":\"object\",\"name\":\"AllLabels\",\"id\":\"p1472\"}}}],\"center\":[{\"type\":\"object\",\"name\":\"Grid\",\"id\":\"p1473\",\"attributes\":{\"axis\":{\"id\":\"p1457\"}}},{\"type\":\"object\",\"name\":\"Grid\",\"id\":\"p1478\",\"attributes\":{\"dimension\":1,\"axis\":{\"id\":\"p1474\"}}}]}}]}};\n  const render_items = [{\"docid\":\"fa312fe9-c347-419b-a58d-41cd556898bb\",\"roots\":{\"p1445\":\"b7ef0e29-6b3b-4809-9d61-2107f716e8bf\"},\"root_ids\":[\"p1445\"]}];\n  void root.Bokeh.embed.embed_items_notebook(docs_json, render_items);\n  }\n  if (root.Bokeh !== undefined) {\n    embed_document(root);\n  } else {\n    let attempts = 0;\n    const timer = setInterval(function(root) {\n      if (root.Bokeh !== undefined) {\n        clearInterval(timer);\n        embed_document(root);\n      } else {\n        attempts++;\n        if (attempts > 100) {\n          clearInterval(timer);\n          console.log(\"Bokeh: ERROR: Unable to run BokehJS code because BokehJS library is missing\");\n        }\n      }\n    }, 10, root)\n  }\n})(window);",
      "application/vnd.bokehjs_exec.v0+json": ""
     },
     "metadata": {
      "application/vnd.bokehjs_exec.v0+json": {
       "id": "p1445"
      }
     },
     "output_type": "display_data"
    }
   ],
   "source": []
  },
  {
   "cell_type": "code",
   "execution_count": 7,
   "metadata": {},
   "outputs": [
    {
     "data": {
      "image/png": "[encoded data removed]",
      "text/plain": [
       "<Figure size 1000x600 with 1 Axes>"
      ]
     },
     "metadata": {},
     "output_type": "display_data"
    }
   ],
   "source": [
    "import seaborn as sns\n",
    "import matplotlib.pyplot as plt\n",
    "\n",
    "# Définir le style seaborn\n",
    "sns.set(style=\"whitegrid\")\n",
    "\n",
    "# Tracer les bougies avec Matplotlib\n",
    "plt.figure(figsize=(10, 6))\n",
    "plt.plot(historical_candles_df.index, historical_candles_df['close'], color='blue', label='Close Price')\n",
    "plt.plot(historical_candles_df.index, historical_candles_df['open'], color='red', label='Open Price')\n",
    "\n",
    "# Ajouter des détails au graphique\n",
    "plt.title('Bougies BTCUSDT')\n",
    "plt.xlabel('Date')\n",
    "plt.ylabel('Prix')\n",
    "plt.legend()\n",
    "\n",
    "# Afficher le graphique\n",
    "plt.show()\n"
   ]
  },
  {
   "cell_type": "code",
   "execution_count": 8,
   "metadata": {},
   "outputs": [
    {
     "data": {
      "text/plain": [
       "\"from market_imbalance import find_imbalances_after_fall, get_fullfilled_imbalances_after_fall, find_imbalances_after_rise, get_fullfilled_imbalances_after_rise\\n\\nimbalances_after_fall = find_imbalances_after_fall(df)\\nfullfilled_imbalances_after_fall = get_fullfilled_imbalances_after_fall(imbalances_after_fall, df)\\n\\nimbalances_after_rise = find_imbalances_after_rise(df)\\nfullfilled_imbalances_after_rise = get_fullfilled_imbalances_after_rise(imbalances_after_rise, df)\\n\\n# Percentage of gap filled after fall\\npercentage_filled_after_fall = (len(fullfilled_imbalances_after_fall) / len(find_imbalances_after_fall)) * 100\\nprint(f'% of filled gap after fall = {percentage_filled_after_fall} with {len(fullfilled_imbalances_after_fall)} fullfilled imbalances on {len(imbalances_after_fall)} in total')\\n\\n# Percentage of gap filled after rise\\npercentage_filled_after_rise = (len(fullfilled_imbalances_after_rise) / len(find_imbalances_after_rise)) * 100\\nprint(f'% of filled gap after rise = {percentage_filled_after_rise} with {len(fullfilled_imbalances_after_rise)} fullfilled imbalances on {len(imbalances_after_rise)} in total')\\n\""
      ]
     },
     "execution_count": 8,
     "metadata": {},
     "output_type": "execute_result"
    }
   ],
   "source": [
    "'''from market_imbalance import find_imbalances_after_fall, get_fullfilled_imbalances_after_fall, find_imbalances_after_rise, get_fullfilled_imbalances_after_rise\n",
    "\n",
    "imbalances_after_fall = find_imbalances_after_fall(df)\n",
    "fullfilled_imbalances_after_fall = get_fullfilled_imbalances_after_fall(imbalances_after_fall, df)\n",
    "\n",
    "imbalances_after_rise = find_imbalances_after_rise(df)\n",
    "fullfilled_imbalances_after_rise = get_fullfilled_imbalances_after_rise(imbalances_after_rise, df)\n",
    "\n",
    "# Percentage of gap filled after fall\n",
    "percentage_filled_after_fall = (len(fullfilled_imbalances_after_fall) / len(find_imbalances_after_fall)) * 100\n",
    "print(f'% of filled gap after fall = {percentage_filled_after_fall} with {len(fullfilled_imbalances_after_fall)} fullfilled imbalances on {len(imbalances_after_fall)} in total')\n",
    "\n",
    "# Percentage of gap filled after rise\n",
    "percentage_filled_after_rise = (len(fullfilled_imbalances_after_rise) / len(find_imbalances_after_rise)) * 100\n",
    "print(f'% of filled gap after rise = {percentage_filled_after_rise} with {len(fullfilled_imbalances_after_rise)} fullfilled imbalances on {len(imbalances_after_rise)} in total')\n",
    "'''"
   ]
  }
 ],
 "metadata": {
  "kernelspec": {
   "display_name": "Python 3",
   "language": "python",
   "name": "python3"
  },
  "language_info": {
   "codemirror_mode": {
    "name": "ipython",
    "version": 3
   },
   "file_extension": ".py",
   "mimetype": "text/x-python",
   "name": "python",
   "nbconvert_exporter": "python",
   "pygments_lexer": "ipython3",
   "version": "3.10.11"
  }
 },
 "nbformat": 4,
 "nbformat_minor": 2
}
